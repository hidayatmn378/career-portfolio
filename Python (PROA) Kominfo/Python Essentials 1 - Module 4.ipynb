{
 "cells": [
  {
   "cell_type": "markdown",
   "id": "d621d2ad",
   "metadata": {},
   "source": [
    "# Functions, tuples, dictionaries, and data processing\n",
    "---"
   ]
  },
  {
   "cell_type": "markdown",
   "id": "7b2ad578",
   "metadata": {},
   "source": [
    "# Writing Functions"
   ]
  },
  {
   "cell_type": "code",
   "execution_count": 1,
   "id": "e8c99035",
   "metadata": {},
   "outputs": [
    {
     "name": "stdout",
     "output_type": "stream",
     "text": [
      "Enter a value: \n",
      "12\n",
      "Enter a value: \n",
      "1243\n",
      "Enter a value: \n",
      "123\n"
     ]
    }
   ],
   "source": [
    "print(\"Enter a value: \")\n",
    "a = int(input())\n",
    "\n",
    "print(\"Enter a value: \")\n",
    "b = int(input())\n",
    "\n",
    "print(\"Enter a value: \")\n",
    "c = int(input())"
   ]
  },
  {
   "cell_type": "code",
   "execution_count": 11,
   "id": "cf33ebea",
   "metadata": {},
   "outputs": [
    {
     "name": "stdout",
     "output_type": "stream",
     "text": [
      "We start here.\n",
      "Enter a value: \n",
      "We end here.\n"
     ]
    }
   ],
   "source": [
    "def message():\n",
    "    print(\"Enter a value: \")\n",
    "\n",
    "print(\"We start here.\")\n",
    "message()\n",
    "print(\"We end here.\")"
   ]
  },
  {
   "cell_type": "code",
   "execution_count": 13,
   "id": "fb01e45b",
   "metadata": {},
   "outputs": [
    {
     "name": "stdout",
     "output_type": "stream",
     "text": [
      "Enter a value: \n",
      "1111111111132\n",
      "Enter a value: \n",
      "123\n",
      "Enter a value: \n",
      "312\n"
     ]
    }
   ],
   "source": [
    "def message():\n",
    "    print(\"Enter a value: \")\n",
    "\n",
    "message()\n",
    "a = int(input())\n",
    "message()\n",
    "b = int(input())\n",
    "message()\n",
    "c = int(input())\n"
   ]
  },
  {
   "cell_type": "markdown",
   "id": "213a3ff0",
   "metadata": {},
   "source": [
    "# Parameterized Functions"
   ]
  },
  {
   "cell_type": "code",
   "execution_count": 16,
   "id": "83e69c9a",
   "metadata": {},
   "outputs": [
    {
     "ename": "TypeError",
     "evalue": "message() missing 1 required positional argument: 'number'",
     "output_type": "error",
     "traceback": [
      "\u001b[0;31m---------------------------------------------------------------------------\u001b[0m",
      "\u001b[0;31mTypeError\u001b[0m                                 Traceback (most recent call last)",
      "Input \u001b[0;32mIn [16]\u001b[0m, in \u001b[0;36m<cell line: 4>\u001b[0;34m()\u001b[0m\n\u001b[1;32m      1\u001b[0m \u001b[38;5;28;01mdef\u001b[39;00m \u001b[38;5;21mmessage\u001b[39m(number):\n\u001b[1;32m      2\u001b[0m     \u001b[38;5;28mprint\u001b[39m(\u001b[38;5;124m\"\u001b[39m\u001b[38;5;124mEnter a number:\u001b[39m\u001b[38;5;124m\"\u001b[39m, number)\n\u001b[0;32m----> 4\u001b[0m message()\n",
      "\u001b[0;31mTypeError\u001b[0m: message() missing 1 required positional argument: 'number'"
     ]
    }
   ],
   "source": [
    "def message(number):\n",
    "    print(\"Enter a number:\", number)\n",
    "\n",
    "message()"
   ]
  },
  {
   "cell_type": "code",
   "execution_count": 15,
   "id": "a44fd5d4",
   "metadata": {},
   "outputs": [
    {
     "name": "stdout",
     "output_type": "stream",
     "text": [
      "Enter a number: 5\n"
     ]
    }
   ],
   "source": [
    "def message(number):\n",
    "    print(\"Enter a number:\", number)\n",
    "message(5)"
   ]
  },
  {
   "cell_type": "code",
   "execution_count": 18,
   "id": "a0b00c58",
   "metadata": {},
   "outputs": [
    {
     "name": "stdout",
     "output_type": "stream",
     "text": [
      "Enter telephone number 11\n",
      "Enter price number 5\n",
      "Enter number number number\n"
     ]
    }
   ],
   "source": [
    "def message(what, number):\n",
    "    print(\"Enter\", what, \"number\", number)\n",
    "\n",
    "message(\"telephone\", 11)\n",
    "message(\"price\", 5)\n",
    "message(\"number\", \"number\")\n"
   ]
  },
  {
   "cell_type": "markdown",
   "id": "46bb6d9f",
   "metadata": {},
   "source": [
    "### Positional Parameter Passing"
   ]
  },
  {
   "cell_type": "code",
   "execution_count": 19,
   "id": "0bcf3da2",
   "metadata": {},
   "outputs": [
    {
     "name": "stdout",
     "output_type": "stream",
     "text": [
      "1 2 3\n"
     ]
    }
   ],
   "source": [
    "def my_function(a, b, c):\n",
    "    print(a, b, c)\n",
    "\n",
    "my_function(1, 2, 3)"
   ]
  },
  {
   "cell_type": "code",
   "execution_count": 20,
   "id": "64df2bc5",
   "metadata": {},
   "outputs": [
    {
     "name": "stdout",
     "output_type": "stream",
     "text": [
      "Hello, my name is Luke Skywalker\n",
      "Hello, my name is Jesse Quick\n",
      "Hello, my name is Clark Kent\n"
     ]
    }
   ],
   "source": [
    "def introduction(first_name, last_name):\n",
    "    print(\"Hello, my name is\", first_name, last_name)\n",
    "\n",
    "introduction(\"Luke\", \"Skywalker\")\n",
    "introduction(\"Jesse\", \"Quick\")\n",
    "introduction(\"Clark\", \"Kent\")\n"
   ]
  },
  {
   "cell_type": "code",
   "execution_count": 21,
   "id": "731ae2e3",
   "metadata": {},
   "outputs": [
    {
     "name": "stdout",
     "output_type": "stream",
     "text": [
      "Hello, my name is Skywalker Luke\n",
      "Hello, my name is Quick Jesse\n",
      "Hello, my name is Kent Clark\n"
     ]
    }
   ],
   "source": [
    "def introduction(first_name, last_name):\n",
    "    print(\"Hello, my name is\", first_name, last_name)\n",
    "\n",
    "introduction(\"Skywalker\", \"Luke\")\n",
    "introduction(\"Quick\", \"Jesse\")\n",
    "introduction(\"Kent\", \"Clark\")\n"
   ]
  },
  {
   "cell_type": "markdown",
   "id": "6b475ea2",
   "metadata": {},
   "source": [
    "### Keyword Argument Passing"
   ]
  },
  {
   "cell_type": "code",
   "execution_count": 22,
   "id": "45d4ea61",
   "metadata": {},
   "outputs": [
    {
     "name": "stdout",
     "output_type": "stream",
     "text": [
      "Hello, my name is James Bond\n",
      "Hello, my name is Luke Skywalker\n"
     ]
    }
   ],
   "source": [
    "def introduction(first_name, last_name):\n",
    "    print(\"Hello, my name is\", first_name, last_name)\n",
    "\n",
    "introduction(first_name = \"James\", last_name = \"Bond\")\n",
    "introduction(last_name = \"Skywalker\", first_name = \"Luke\")\n"
   ]
  },
  {
   "cell_type": "markdown",
   "id": "ea9b21e1",
   "metadata": {},
   "source": [
    "# Mixing positional and keyword arguments"
   ]
  },
  {
   "cell_type": "code",
   "execution_count": 27,
   "id": "5f195440",
   "metadata": {},
   "outputs": [
    {
     "name": "stdout",
     "output_type": "stream",
     "text": [
      "1 + 2 + 3 = 6\n",
      "2 + 3 + 1 = 6\n",
      "3 + 2 + 1 = 6\n",
      "4 + 3 + 2 = 9\n"
     ]
    }
   ],
   "source": [
    "def adding(a, b, c):\n",
    "    print(a, \"+\", b, \"+\", c, \"=\", a + b + c)\n",
    "\n",
    "adding(1, 2, 3)\n",
    "adding(c = 1, a = 2, b = 3)\n",
    "adding(3, c = 1, b = 2)\n",
    "adding(4, 3, c = 2)"
   ]
  },
  {
   "cell_type": "code",
   "execution_count": 28,
   "id": "6e155b84",
   "metadata": {},
   "outputs": [
    {
     "name": "stdout",
     "output_type": "stream",
     "text": [
      "Hello, my name is James Doe\n",
      "Hello, my name is Henry Smith\n",
      "Hello, my name is William Smith\n"
     ]
    }
   ],
   "source": [
    "def introduction(first_name, last_name=\"Smith\"):\n",
    "    print(\"Hello, my name is\", first_name, last_name)\n",
    "\n",
    "# Call the function here.\n",
    "introduction(\"James\", \"Doe\")\n",
    "introduction(\"Henry\")\n",
    "introduction(first_name=\"William\")"
   ]
  },
  {
   "cell_type": "code",
   "execution_count": 29,
   "id": "7e1916eb",
   "metadata": {},
   "outputs": [
    {
     "name": "stdout",
     "output_type": "stream",
     "text": [
      "Hello, my name is John Smith\n",
      "Hello, my name is John Hopkins\n"
     ]
    }
   ],
   "source": [
    "def introduction(first_name=\"John\", last_name=\"Smith\"):\n",
    "    print(\"Hello, my name is\", first_name, last_name)\n",
    "\n",
    "introduction()\n",
    "introduction(last_name=\"Hopkins\")\n"
   ]
  },
  {
   "cell_type": "markdown",
   "id": "c6b711e2",
   "metadata": {},
   "source": [
    "### Key takeaway"
   ]
  },
  {
   "cell_type": "code",
   "execution_count": 30,
   "id": "545553c0",
   "metadata": {},
   "outputs": [
    {
     "name": "stdout",
     "output_type": "stream",
     "text": [
      "Hi, Greg\n"
     ]
    }
   ],
   "source": [
    "def hi(name):\n",
    "    print(\"Hi,\", name)\n",
    "\n",
    "hi(\"Greg\")\n"
   ]
  },
  {
   "cell_type": "code",
   "execution_count": 31,
   "id": "f0f93cfd",
   "metadata": {},
   "outputs": [
    {
     "name": "stdout",
     "output_type": "stream",
     "text": [
      "Hi, Konrad\n",
      "Hi, Sebastian\n"
     ]
    }
   ],
   "source": [
    "def hi_all(name_1, name_2):\n",
    "    print(\"Hi,\", name_2)\n",
    "    print(\"Hi,\", name_1)\n",
    "\n",
    "hi_all(\"Sebastian\", \"Konrad\")\n"
   ]
  },
  {
   "cell_type": "code",
   "execution_count": 32,
   "id": "6f70db6c",
   "metadata": {},
   "outputs": [
    {
     "name": "stdout",
     "output_type": "stream",
     "text": [
      "Street: Senja\n",
      "Postal Code: 10013\n",
      "City: Kota Tua\n",
      "Your address is: Senja St., Kota Tua 10013\n"
     ]
    }
   ],
   "source": [
    "def address(street, city, postal_code):\n",
    "    print(\"Your address is:\", street, \"St.,\", city, postal_code)\n",
    "\n",
    "s = input(\"Street: \")\n",
    "p_c = input(\"Postal Code: \")\n",
    "c = input(\"City: \")\n",
    "\n",
    "address(s, c, p_c)\n"
   ]
  },
  {
   "cell_type": "code",
   "execution_count": 35,
   "id": "e9e2877e",
   "metadata": {},
   "outputs": [
    {
     "name": "stdout",
     "output_type": "stream",
     "text": [
      "3\n",
      "-3\n",
      "3\n",
      "3\n",
      "3\n",
      "3\n"
     ]
    }
   ],
   "source": [
    "# Ex. 1\n",
    "def subtra(a, b):\n",
    "    print(a - b)\n",
    "\n",
    "subtra(5, 2)    # outputs: 3\n",
    "subtra(2, 5)    # outputs: -3\n",
    "\n",
    "\n",
    "# Ex. 2\n",
    "def subtra(a, b):\n",
    "    print(a - b)\n",
    "\n",
    "subtra(a=5, b=2)    # outputs: 3\n",
    "subtra(b=2, a=5)    # outputs: 3\n",
    "\n",
    "# Ex. 3\n",
    "def subtra(a, b):\n",
    "    print(a - b)\n",
    "\n",
    "subtra(5, b=2)    # outputs: 3\n",
    "subtra(5, 2)    # outputs: 3\n"
   ]
  },
  {
   "cell_type": "code",
   "execution_count": 36,
   "id": "fd410279",
   "metadata": {},
   "outputs": [
    {
     "name": "stdout",
     "output_type": "stream",
     "text": [
      "Andy Smith\n",
      "Betty Johnson\n"
     ]
    }
   ],
   "source": [
    "def name(first_name, last_name=\"Smith\"):\n",
    "    print(first_name, last_name)\n",
    "\n",
    "name(\"Andy\")    # outputs: Andy Smith\n",
    "name(\"Betty\", \"Johnson\")    # outputs: Betty Johnson (the keyword argument replaced by \"Johnson\")\n"
   ]
  },
  {
   "cell_type": "code",
   "execution_count": 45,
   "id": "1b2ddeb7",
   "metadata": {},
   "outputs": [
    {
     "ename": "SyntaxError",
     "evalue": "non-default argument follows default argument (<ipython-input-45-eb534ca380af>, line 1)",
     "output_type": "error",
     "traceback": [
      "\u001b[0;36m  Input \u001b[0;32mIn [45]\u001b[0;36m\u001b[0m\n\u001b[0;31m    def add_numbers(a, b=2, c):\u001b[0m\n\u001b[0m                             ^\u001b[0m\n\u001b[0;31mSyntaxError\u001b[0m\u001b[0;31m:\u001b[0m non-default argument follows default argument\n"
     ]
    }
   ],
   "source": [
    "def add_numbers(a, b=2, c):\n",
    "    print(a + b + c)\n",
    "\n",
    "add_numbers(a=1,b,c=1)\n"
   ]
  },
  {
   "cell_type": "code",
   "execution_count": 46,
   "id": "76aee052",
   "metadata": {},
   "outputs": [
    {
     "name": "stdout",
     "output_type": "stream",
     "text": [
      "4\n"
     ]
    }
   ],
   "source": [
    "add_numbers(a=1,b=2,c=1)"
   ]
  },
  {
   "cell_type": "markdown",
   "id": "abacb588",
   "metadata": {},
   "source": [
    "# Returning results from functions"
   ]
  },
  {
   "cell_type": "markdown",
   "id": "dedc7ba0",
   "metadata": {},
   "source": [
    "### without an expression"
   ]
  },
  {
   "cell_type": "code",
   "execution_count": 48,
   "id": "78d9140e",
   "metadata": {},
   "outputs": [
    {
     "name": "stdout",
     "output_type": "stream",
     "text": [
      "Three...\n",
      "Two...\n",
      "One...\n",
      "Happy New Year!\n"
     ]
    }
   ],
   "source": [
    "def happy_new_year(wishes = True):\n",
    "    print(\"Three...\")\n",
    "    print(\"Two...\")\n",
    "    print(\"One...\")\n",
    "    if not wishes:\n",
    "        return\n",
    "    \n",
    "    print(\"Happy New Year!\")\n",
    "happy_new_year()"
   ]
  },
  {
   "cell_type": "code",
   "execution_count": 49,
   "id": "1e4138a6",
   "metadata": {},
   "outputs": [
    {
     "name": "stdout",
     "output_type": "stream",
     "text": [
      "Three...\n",
      "Two...\n",
      "One...\n"
     ]
    }
   ],
   "source": [
    "happy_new_year(False)"
   ]
  },
  {
   "cell_type": "markdown",
   "id": "abb37264",
   "metadata": {},
   "source": [
    "### with an expression"
   ]
  },
  {
   "cell_type": "code",
   "execution_count": 50,
   "id": "ebc894b7",
   "metadata": {},
   "outputs": [
    {
     "name": "stdout",
     "output_type": "stream",
     "text": [
      "The boring_function has returned its result. It's: 123\n"
     ]
    }
   ],
   "source": [
    "def boring_function():\n",
    "    return 123\n",
    "\n",
    "x = boring_function()\n",
    "\n",
    "print(\"The boring_function has returned its result. It's:\", x)\n"
   ]
  },
  {
   "cell_type": "code",
   "execution_count": 51,
   "id": "04b7d825",
   "metadata": {},
   "outputs": [
    {
     "name": "stdout",
     "output_type": "stream",
     "text": [
      "This lesson is interesting!\n",
      "'Boredom Mode' ON.\n",
      "This lesson is boring...\n"
     ]
    }
   ],
   "source": [
    "def boring_function():\n",
    "    print(\"'Boredom Mode' ON.\")\n",
    "    return 123\n",
    "\n",
    "print(\"This lesson is interesting!\")\n",
    "boring_function()\n",
    "print(\"This lesson is boring...\")\n"
   ]
  },
  {
   "cell_type": "markdown",
   "id": "1a295f3c",
   "metadata": {},
   "source": [
    "### None"
   ]
  },
  {
   "cell_type": "code",
   "execution_count": 52,
   "id": "79489a8e",
   "metadata": {},
   "outputs": [
    {
     "name": "stdout",
     "output_type": "stream",
     "text": [
      "Sorry, you don't carry any value\n"
     ]
    }
   ],
   "source": [
    "value = None\n",
    "if value is None:\n",
    "    print(\"Sorry, you don't carry any value\")"
   ]
  },
  {
   "cell_type": "code",
   "execution_count": 53,
   "id": "c0d1dbff",
   "metadata": {},
   "outputs": [
    {
     "name": "stdout",
     "output_type": "stream",
     "text": [
      "True\n",
      "None\n"
     ]
    }
   ],
   "source": [
    "def strange_function(n):\n",
    "    if(n % 2 == 0):\n",
    "        return True\n",
    "print(strange_function(2))\n",
    "print(strange_function(1))\n"
   ]
  },
  {
   "cell_type": "markdown",
   "id": "57093ca3",
   "metadata": {},
   "source": [
    "### Lists and functions"
   ]
  },
  {
   "cell_type": "code",
   "execution_count": 59,
   "id": "8c136946",
   "metadata": {},
   "outputs": [
    {
     "name": "stdout",
     "output_type": "stream",
     "text": [
      "12\n"
     ]
    }
   ],
   "source": [
    "def list_sum(lst):\n",
    "    s = 0\n",
    "    \n",
    "    for elem in lst:\n",
    "        s += elem\n",
    "    return s\n",
    "\n",
    "print(list_sum([5, 4, 3]))\n"
   ]
  },
  {
   "cell_type": "code",
   "execution_count": 72,
   "id": "8d05e09c",
   "metadata": {},
   "outputs": [
    {
     "name": "stdout",
     "output_type": "stream",
     "text": [
      "[4, 3, 2, 1, 0]\n"
     ]
    }
   ],
   "source": [
    "def strange_list_fun(n):\n",
    "    strange_list = []\n",
    "    \n",
    "    for i in range(0, n):\n",
    "        strange_list.insert(0, i)\n",
    "    \n",
    "    return strange_list\n",
    "\n",
    "print(strange_list_fun(5))"
   ]
  },
  {
   "cell_type": "code",
   "execution_count": 76,
   "id": "f60e6b92",
   "metadata": {},
   "outputs": [
    {
     "name": "stdout",
     "output_type": "stream",
     "text": [
      "[0, 2, 4, 6, 8, 10]\n"
     ]
    }
   ],
   "source": [
    "def even_num_lst(ran):\n",
    "    lst = []\n",
    "    for num in range(ran):\n",
    "        if num % 2 == 0:\n",
    "            lst.append(num)\n",
    "    return lst\n",
    "\n",
    "print(even_num_lst(11))"
   ]
  },
  {
   "cell_type": "markdown",
   "id": "2eb39022",
   "metadata": {},
   "source": [
    "### Key takeaways"
   ]
  },
  {
   "cell_type": "code",
   "execution_count": 64,
   "id": "09d2dd13",
   "metadata": {},
   "outputs": [
    {
     "name": "stdout",
     "output_type": "stream",
     "text": [
      "12\n",
      "None\n",
      "None\n"
     ]
    }
   ],
   "source": [
    "def multiply(a, b):\n",
    "    return a * b\n",
    "\n",
    "print(multiply(3, 4))    # outputs: 12\n",
    "\n",
    "\n",
    "def multiply(a, b):\n",
    "    return\n",
    "\n",
    "print(multiply(3, 4))    # outputs: None\n",
    "\n",
    "def multiply(a, b):\n",
    "    a * b\n",
    "\n",
    "print(multiply(3, 4))    # outputs: None"
   ]
  },
  {
   "cell_type": "code",
   "execution_count": 65,
   "id": "a821e057",
   "metadata": {},
   "outputs": [
    {
     "name": "stdout",
     "output_type": "stream",
     "text": [
      "Happy Birthday!\n"
     ]
    }
   ],
   "source": [
    "def wishes():\n",
    "    return \"Happy Birthday!\"\n",
    "\n",
    "w = wishes()\n",
    "\n",
    "print(w)    # outputs: Happy Birthday!"
   ]
  },
  {
   "cell_type": "code",
   "execution_count": 66,
   "id": "eaef5f79",
   "metadata": {},
   "outputs": [
    {
     "name": "stdout",
     "output_type": "stream",
     "text": [
      "My Wishes\n",
      "My Wishes\n",
      "Happy Birthday\n"
     ]
    }
   ],
   "source": [
    "# Example 1\n",
    "def wishes():\n",
    "    print(\"My Wishes\")\n",
    "    return \"Happy Birthday\"\n",
    "\n",
    "wishes()    # outputs: My Wishes\n",
    "\n",
    "\n",
    "# Example 2\n",
    "def wishes():\n",
    "    print(\"My Wishes\")\n",
    "    return \"Happy Birthday\"\n",
    "\n",
    "print(wishes())\n",
    "\n",
    "# outputs: My Wishes\n",
    "#          Happy Birthday\n"
   ]
  },
  {
   "cell_type": "code",
   "execution_count": 67,
   "id": "d0656d26",
   "metadata": {},
   "outputs": [
    {
     "name": "stdout",
     "output_type": "stream",
     "text": [
      "Hi, Adam\n",
      "Hi, John\n",
      "Hi, Lucy\n"
     ]
    }
   ],
   "source": [
    "def hi_everybody(my_list):\n",
    "    for name in my_list:\n",
    "        print(\"Hi,\", name)\n",
    "\n",
    "hi_everybody([\"Adam\", \"John\", \"Lucy\"])\n"
   ]
  },
  {
   "cell_type": "code",
   "execution_count": 70,
   "id": "c3fc5f3a",
   "metadata": {},
   "outputs": [
    {
     "name": "stdout",
     "output_type": "stream",
     "text": [
      "[0, 1, 2, 3, 4]\n"
     ]
    }
   ],
   "source": [
    "def create_list(n):\n",
    "    my_list = []\n",
    "    for i in range(n):\n",
    "        my_list.append(i)\n",
    "    return my_list\n",
    "\n",
    "print(create_list(5))\n"
   ]
  },
  {
   "cell_type": "markdown",
   "id": "2d29db69",
   "metadata": {},
   "source": [
    "# Scopes"
   ]
  },
  {
   "cell_type": "code",
   "execution_count": 77,
   "id": "4e33aec1",
   "metadata": {},
   "outputs": [
    {
     "name": "stdout",
     "output_type": "stream",
     "text": [
      "123\n"
     ]
    }
   ],
   "source": [
    "def scope_test():\n",
    "    x = 123\n",
    "\n",
    "\n",
    "scope_test()\n",
    "print(x)\n"
   ]
  },
  {
   "cell_type": "code",
   "execution_count": 78,
   "id": "a2e9eeff",
   "metadata": {},
   "outputs": [
    {
     "name": "stdout",
     "output_type": "stream",
     "text": [
      "Do I know that variable? 1\n",
      "1\n"
     ]
    }
   ],
   "source": [
    "def my_function():\n",
    "    print(\"Do I know that variable?\", var)\n",
    "\n",
    "\n",
    "var = 1\n",
    "my_function()\n",
    "print(var)\n"
   ]
  },
  {
   "cell_type": "code",
   "execution_count": 79,
   "id": "aa7d832f",
   "metadata": {},
   "outputs": [
    {
     "name": "stdout",
     "output_type": "stream",
     "text": [
      "Do I know that variable? 2\n",
      "1\n"
     ]
    }
   ],
   "source": [
    "def my_function():\n",
    "    var = 2\n",
    "    print(\"Do I know that variable?\", var)\n",
    "\n",
    "\n",
    "var = 1\n",
    "my_function()\n",
    "print(var)\n"
   ]
  },
  {
   "cell_type": "markdown",
   "id": "e3e5947b",
   "metadata": {},
   "source": [
    "### The global keyword"
   ]
  },
  {
   "cell_type": "code",
   "execution_count": 80,
   "id": "536564b1",
   "metadata": {},
   "outputs": [
    {
     "name": "stdout",
     "output_type": "stream",
     "text": [
      "Do I know that variable? 2\n",
      "2\n"
     ]
    }
   ],
   "source": [
    "def my_function():\n",
    "    global var\n",
    "    var = 2\n",
    "    print(\"Do I know that variable?\", var)\n",
    "\n",
    "\n",
    "var = 1\n",
    "my_function()\n",
    "print(var)\n"
   ]
  },
  {
   "cell_type": "markdown",
   "id": "ed529a6d",
   "metadata": {},
   "source": [
    "### Arguments "
   ]
  },
  {
   "cell_type": "code",
   "execution_count": 81,
   "id": "52663d14",
   "metadata": {},
   "outputs": [
    {
     "name": "stdout",
     "output_type": "stream",
     "text": [
      "I got 1\n",
      "I have 2\n",
      "1\n"
     ]
    }
   ],
   "source": [
    "def my_function(n):\n",
    "    print(\"I got\", n)\n",
    "    n += 1\n",
    "    print(\"I have\", n)\n",
    "\n",
    "\n",
    "var = 1\n",
    "my_function(var)\n",
    "print(var)\n"
   ]
  },
  {
   "cell_type": "code",
   "execution_count": 82,
   "id": "2d58a7ec",
   "metadata": {},
   "outputs": [
    {
     "name": "stdout",
     "output_type": "stream",
     "text": [
      "Print #1: [2, 3]\n",
      "Print #2: [2, 3]\n",
      "Print #3: [0, 1]\n",
      "Print #4: [2, 3]\n",
      "Print #5: [2, 3]\n"
     ]
    }
   ],
   "source": [
    "def my_function(my_list_1):\n",
    "    print(\"Print #1:\", my_list_1)\n",
    "    print(\"Print #2:\", my_list_2)\n",
    "    my_list_1 = [0, 1]\n",
    "    print(\"Print #3:\", my_list_1)\n",
    "    print(\"Print #4:\", my_list_2)\n",
    "\n",
    "\n",
    "my_list_2 = [2, 3]\n",
    "my_function(my_list_2)\n",
    "print(\"Print #5:\", my_list_2)\n"
   ]
  },
  {
   "cell_type": "code",
   "execution_count": 83,
   "id": "a4f018bf",
   "metadata": {},
   "outputs": [
    {
     "name": "stdout",
     "output_type": "stream",
     "text": [
      "Print #1: [2, 3]\n",
      "Print #2: [2, 3]\n",
      "Print #3: [3]\n",
      "Print #4: [3]\n",
      "Print #5: [3]\n"
     ]
    }
   ],
   "source": [
    "def my_function(my_list_1):\n",
    "    print(\"Print #1:\", my_list_1)\n",
    "    print(\"Print #2:\", my_list_2)\n",
    "    del my_list_1[0]  # Pay attention to this line.\n",
    "    print(\"Print #3:\", my_list_1)\n",
    "    print(\"Print #4:\", my_list_2)\n",
    "\n",
    "\n",
    "my_list_2 = [2, 3]\n",
    "my_function(my_list_2)\n",
    "print(\"Print #5:\", my_list_2)\n"
   ]
  },
  {
   "cell_type": "markdown",
   "id": "8d18584d",
   "metadata": {},
   "source": [
    "### Key takeaways"
   ]
  },
  {
   "cell_type": "code",
   "execution_count": 87,
   "id": "8cddd447",
   "metadata": {},
   "outputs": [
    {
     "name": "stdout",
     "output_type": "stream",
     "text": [
      "14\n"
     ]
    }
   ],
   "source": [
    "var = 2\n",
    "\n",
    "def mult_by_var(x):\n",
    "    return x * var\n",
    "\n",
    "print(mult_by_var(7))    # outputs: 14"
   ]
  },
  {
   "cell_type": "code",
   "execution_count": 86,
   "id": "745071ba",
   "metadata": {},
   "outputs": [
    {
     "name": "stdout",
     "output_type": "stream",
     "text": [
      "35\n"
     ]
    }
   ],
   "source": [
    "def mult(x):\n",
    "    var = 5\n",
    "    return x * var\n",
    "\n",
    "\n",
    "print(mult(7))    # outputs: 35"
   ]
  },
  {
   "cell_type": "code",
   "execution_count": 88,
   "id": "87f4bc38",
   "metadata": {},
   "outputs": [
    {
     "name": "stdout",
     "output_type": "stream",
     "text": [
      "49\n"
     ]
    }
   ],
   "source": [
    "def mult(x):\n",
    "    var = 7\n",
    "    return x * var\n",
    "\n",
    "var = 3\n",
    "print(mult(7))    # outputs: 49\n"
   ]
  },
  {
   "cell_type": "code",
   "execution_count": 89,
   "id": "01964358",
   "metadata": {},
   "outputs": [
    {
     "name": "stdout",
     "output_type": "stream",
     "text": [
      "2\n",
      "5\n",
      "5\n"
     ]
    }
   ],
   "source": [
    "var = 2\n",
    "print(var)    # outputs: 2\n",
    "\n",
    "\n",
    "def return_var():\n",
    "    global var\n",
    "    var = 5\n",
    "    return var\n",
    "\n",
    "\n",
    "print(return_var())    # outputs: 5\n",
    "print(var)    # outputs: 5\n"
   ]
  },
  {
   "cell_type": "code",
   "execution_count": 90,
   "id": "5841f71b",
   "metadata": {},
   "outputs": [
    {
     "name": "stdout",
     "output_type": "stream",
     "text": [
      "2\n",
      "3\n"
     ]
    }
   ],
   "source": [
    "a = 1\n",
    "\n",
    "\n",
    "def fun():\n",
    "    global a\n",
    "    a = 2\n",
    "    print(a)\n",
    "\n",
    "\n",
    "fun()\n",
    "a = 3\n",
    "print(a)"
   ]
  },
  {
   "cell_type": "code",
   "execution_count": 91,
   "id": "dddc5006",
   "metadata": {},
   "outputs": [
    {
     "name": "stdout",
     "output_type": "stream",
     "text": [
      "2\n",
      "2\n"
     ]
    }
   ],
   "source": [
    "a = 1\n",
    "\n",
    "\n",
    "def fun():\n",
    "    global a\n",
    "    a = 2\n",
    "    print(a)\n",
    "\n",
    "\n",
    "a = 3\n",
    "fun()\n",
    "print(a)"
   ]
  },
  {
   "cell_type": "markdown",
   "id": "6b26c020",
   "metadata": {},
   "source": [
    "# Creating Simple Functions"
   ]
  },
  {
   "cell_type": "code",
   "execution_count": 92,
   "id": "fe42e707",
   "metadata": {},
   "outputs": [
    {
     "name": "stdout",
     "output_type": "stream",
     "text": [
      "19.283746556473833\n"
     ]
    }
   ],
   "source": [
    "def bmi(weight, height):\n",
    "    return weight / height ** 2\n",
    "\n",
    "\n",
    "print(bmi(52.5, 1.65))"
   ]
  },
  {
   "cell_type": "code",
   "execution_count": 104,
   "id": "7aa34ec8",
   "metadata": {},
   "outputs": [
    {
     "name": "stdout",
     "output_type": "stream",
     "text": [
      "None\n",
      "58.76951331496787\n"
     ]
    }
   ],
   "source": [
    "def bmi(weight, height):\n",
    "    if height < 1.0 or height > 2.5 or \\\n",
    "    weight < 20 or weight > 200:\n",
    "        return None\n",
    "\n",
    "    return weight / height ** 2\n",
    "\n",
    "\n",
    "print(bmi(352.5, 1.65))\n",
    "print(bmi(160, 1.65))"
   ]
  },
  {
   "cell_type": "code",
   "execution_count": 107,
   "id": "0c2fb748",
   "metadata": {},
   "outputs": [
    {
     "name": "stdout",
     "output_type": "stream",
     "text": [
      "0.45359237\n"
     ]
    }
   ],
   "source": [
    "def lb_to_kg(lb):\n",
    "    return lb * 0.45359237\n",
    "\n",
    "print(lb_to_kg(1))"
   ]
  },
  {
   "cell_type": "code",
   "execution_count": 110,
   "id": "3e321037",
   "metadata": {},
   "outputs": [
    {
     "name": "stdout",
     "output_type": "stream",
     "text": [
      "0.45359237\n"
     ]
    }
   ],
   "source": [
    "# compare with\n",
    "def lb_to_kg(lb):\n",
    "    print(lb * 0.45359237)\n",
    "\n",
    "lb_to_kg(1)"
   ]
  },
  {
   "cell_type": "code",
   "execution_count": 111,
   "id": "647b348a",
   "metadata": {},
   "outputs": [
    {
     "name": "stdout",
     "output_type": "stream",
     "text": [
      "0.3302\n",
      "1.8288000000000002\n"
     ]
    }
   ],
   "source": [
    "def ft_and_inch_to_m(ft, inch):\n",
    "    return ft * 0.3048 + inch * 0.0254\n",
    "\n",
    "\n",
    "print(ft_and_inch_to_m(1, 1))\n",
    "print(ft_and_inch_to_m(6, 0))\n"
   ]
  },
  {
   "cell_type": "code",
   "execution_count": 112,
   "id": "dff72f02",
   "metadata": {},
   "outputs": [
    {
     "name": "stdout",
     "output_type": "stream",
     "text": [
      "1.8288000000000002\n"
     ]
    }
   ],
   "source": [
    "def ft_and_inch_to_m(ft, inch = 0.0):\n",
    "    return ft * 0.3048 + inch * 0.0254\n",
    "\n",
    "\n",
    "print(ft_and_inch_to_m(6))"
   ]
  },
  {
   "cell_type": "code",
   "execution_count": 113,
   "id": "245346bf",
   "metadata": {},
   "outputs": [
    {
     "name": "stdout",
     "output_type": "stream",
     "text": [
      "27.565214082533313\n"
     ]
    }
   ],
   "source": [
    "def ft_and_inch_to_m(ft, inch = 0.0):\n",
    "    return ft * 0.3048 + inch * 0.0254\n",
    "\n",
    "\n",
    "def lb_to_kg(lb):\n",
    "    return lb * 0.45359237\n",
    "\n",
    "\n",
    "def bmi(weight, height):\n",
    "    if height < 1.0 or height > 2.5 or weight < 20 or weight > 200:\n",
    "        return None\n",
    "    \n",
    "    return weight / height ** 2\n",
    "\n",
    "\n",
    "print(bmi(weight = lb_to_kg(176), height = ft_and_inch_to_m(5, 7)))\n"
   ]
  },
  {
   "cell_type": "markdown",
   "id": "73a8701e",
   "metadata": {},
   "source": [
    "### More"
   ]
  },
  {
   "cell_type": "code",
   "execution_count": 114,
   "id": "7813a0c8",
   "metadata": {},
   "outputs": [
    {
     "name": "stdout",
     "output_type": "stream",
     "text": [
      "True\n",
      "False\n"
     ]
    }
   ],
   "source": [
    "def is_a_triangle(a, b, c):\n",
    "    if a + b <= c:\n",
    "        return False\n",
    "    if b + c <= a:\n",
    "        return False\n",
    "    if c + a <= b:\n",
    "        return False\n",
    "    return True\n",
    "\n",
    "\n",
    "print(is_a_triangle(1, 1, 1))\n",
    "print(is_a_triangle(1, 1, 3))\n"
   ]
  },
  {
   "cell_type": "code",
   "execution_count": 115,
   "id": "0bbae6bc",
   "metadata": {},
   "outputs": [
    {
     "name": "stdout",
     "output_type": "stream",
     "text": [
      "True\n",
      "False\n"
     ]
    }
   ],
   "source": [
    "def is_a_triangle(a, b, c):\n",
    "    if a + b <= c or b + c <= a or c + a <= b:\n",
    "        return False\n",
    "    return True\n",
    "\n",
    "\n",
    "print(is_a_triangle(1, 1, 1))\n",
    "print(is_a_triangle(1, 1, 3))"
   ]
  },
  {
   "cell_type": "code",
   "execution_count": 116,
   "id": "297f5d53",
   "metadata": {},
   "outputs": [
    {
     "name": "stdout",
     "output_type": "stream",
     "text": [
      "True\n",
      "False\n"
     ]
    }
   ],
   "source": [
    "def is_a_triangle(a, b, c):\n",
    "    return a + b > c and b + c > a and c + a > b\n",
    "\n",
    "\n",
    "print(is_a_triangle(1, 1, 1))\n",
    "print(is_a_triangle(1, 1, 3))\n"
   ]
  },
  {
   "cell_type": "code",
   "execution_count": 117,
   "id": "a54214e2",
   "metadata": {},
   "outputs": [
    {
     "name": "stdout",
     "output_type": "stream",
     "text": [
      "Enter the first side's length: 3\n",
      "Enter the second side's length: 4\n",
      "Enter the third side's length: 5\n",
      "Yes, it can be a triangle.\n"
     ]
    }
   ],
   "source": [
    "def is_a_triangle(a, b, c):\n",
    "    return a + b > c and b + c > a and c + a > b\n",
    "\n",
    "\n",
    "a = float(input('Enter the first side\\'s length: '))\n",
    "b = float(input('Enter the second side\\'s length: '))\n",
    "c = float(input('Enter the third side\\'s length: '))\n",
    "\n",
    "if is_a_triangle(a, b, c):\n",
    "    print('Yes, it can be a triangle.')\n",
    "else:\n",
    "    print('No, it can\\'t be a triangle.')\n"
   ]
  },
  {
   "cell_type": "code",
   "execution_count": 118,
   "id": "4c336fa6",
   "metadata": {},
   "outputs": [
    {
     "name": "stdout",
     "output_type": "stream",
     "text": [
      "True\n",
      "False\n"
     ]
    }
   ],
   "source": [
    "def is_a_triangle(a, b, c):\n",
    "    return a + b > c and b + c > a and c + a > b\n",
    "\n",
    "\n",
    "def is_a_right_triangle(a, b, c):\n",
    "    if not is_a_triangle(a, b, c):\n",
    "        return False\n",
    "    if c > a and c > b:\n",
    "        return c ** 2 == a ** 2 + b ** 2\n",
    "    if a > b and a > c:\n",
    "        return a ** 2 == b ** 2 + c ** 2\n",
    "\n",
    "\n",
    "print(is_a_right_triangle(5, 3, 4))\n",
    "print(is_a_right_triangle(1, 3, 4))\n"
   ]
  },
  {
   "cell_type": "code",
   "execution_count": 119,
   "id": "ee6c847d",
   "metadata": {},
   "outputs": [
    {
     "name": "stdout",
     "output_type": "stream",
     "text": [
      "Enter the first side's length: 2\n",
      "Enter the second side's length: 4\n",
      "Enter the third side's length: 5\n",
      "Yes, it can be a triangle.\n"
     ]
    }
   ],
   "source": [
    "def is_a_triangle(a, b, c):\n",
    "    return a + b > c and b + c > a and c + a > b\n",
    "\n",
    "\n",
    "a = float(input('Enter the first side\\'s length: '))\n",
    "b = float(input('Enter the second side\\'s length: '))\n",
    "c = float(input('Enter the third side\\'s length: '))\n",
    "\n",
    "if is_a_triangle(a, b, c):\n",
    "    print('Yes, it can be a triangle.')\n",
    "else:\n",
    "    print('No, it can\\'t be a triangle.')\n"
   ]
  },
  {
   "cell_type": "code",
   "execution_count": 124,
   "id": "13d64ed2",
   "metadata": {},
   "outputs": [
    {
     "name": "stdout",
     "output_type": "stream",
     "text": [
      "0.49999999999999983\n",
      "None\n"
     ]
    }
   ],
   "source": [
    "def is_a_triangle(a, b, c):\n",
    "    return a + b > c and b + c > a and c + a > b\n",
    "\n",
    "\n",
    "def heron(a, b, c):\n",
    "    p = (a + b + c) / 2\n",
    "    return (p * (p - a) * (p - b) * (p - c)) ** 0.5\n",
    "\n",
    "\n",
    "def area_of_triangle(a, b, c):\n",
    "    if not is_a_triangle(a, b, c):\n",
    "        return None\n",
    "    return heron(a, b, c)\n",
    "\n",
    "\n",
    "print(area_of_triangle(1., 1., 2. ** .5))\n",
    "print(area_of_triangle(1., 1., 0))"
   ]
  },
  {
   "cell_type": "code",
   "execution_count": 126,
   "id": "43d04908",
   "metadata": {},
   "outputs": [
    {
     "name": "stdout",
     "output_type": "stream",
     "text": [
      "1 1\n",
      "2 2\n",
      "3 6\n",
      "4 24\n",
      "5 120\n"
     ]
    }
   ],
   "source": [
    "def factorial_function(n):\n",
    "    if n < 0:\n",
    "        return None\n",
    "    if n < 2:\n",
    "        return 1\n",
    "    \n",
    "    product = 1\n",
    "    for i in range(2, n + 1):\n",
    "        product *= i\n",
    "    return product\n",
    "\n",
    "\n",
    "for n in range(1, 6):  # testing\n",
    "    print(n, factorial_function(n))\n"
   ]
  },
  {
   "cell_type": "code",
   "execution_count": 127,
   "id": "84a915d3",
   "metadata": {},
   "outputs": [
    {
     "name": "stdout",
     "output_type": "stream",
     "text": [
      "1 -> 1\n",
      "2 -> 1\n",
      "3 -> 2\n",
      "4 -> 3\n",
      "5 -> 5\n",
      "6 -> 8\n",
      "7 -> 13\n",
      "8 -> 21\n",
      "9 -> 34\n"
     ]
    }
   ],
   "source": [
    "def fib(n):\n",
    "    if n < 1:\n",
    "        return None\n",
    "    if n < 3:\n",
    "        return 1\n",
    "\n",
    "    elem_1 = elem_2 = 1\n",
    "    the_sum = 0\n",
    "    for i in range(3, n + 1):\n",
    "        the_sum = elem_1 + elem_2\n",
    "        elem_1, elem_2 = elem_2, the_sum\n",
    "    return the_sum\n",
    "\n",
    "\n",
    "for n in range(1, 10):  # testing\n",
    "    print(n, \"->\", fib(n))\n"
   ]
  },
  {
   "cell_type": "markdown",
   "id": "eedccfae",
   "metadata": {},
   "source": [
    "### Recursion Implementation"
   ]
  },
  {
   "cell_type": "code",
   "execution_count": 134,
   "id": "c61f2031",
   "metadata": {},
   "outputs": [
    {
     "name": "stdout",
     "output_type": "stream",
     "text": [
      "1 1\n",
      "2 1\n",
      "3 2\n",
      "4 3\n",
      "5 5\n",
      "6 8\n",
      "7 13\n",
      "8 21\n",
      "9 34\n"
     ]
    }
   ],
   "source": [
    "def fib(n):\n",
    "    if n < 1:\n",
    "        return None\n",
    "    if n < 3:\n",
    "        return 1\n",
    "    return fib(n - 1) + fib(n - 2)\n",
    "# print(fib(10))\n",
    "for n in range(1, 10):  # testing\n",
    "    print(n, fib(n))"
   ]
  },
  {
   "cell_type": "code",
   "execution_count": 135,
   "id": "3ac4fb65",
   "metadata": {},
   "outputs": [
    {
     "name": "stdout",
     "output_type": "stream",
     "text": [
      "1 1\n",
      "2 2\n",
      "3 6\n",
      "4 24\n",
      "5 120\n"
     ]
    }
   ],
   "source": [
    "def factorial_function(n):\n",
    "    if n < 0:\n",
    "        return None\n",
    "    if n < 2:\n",
    "        return 1\n",
    "    return n * factorial_function(n - 1)\n",
    "\n",
    "for n in range(1, 6):  # testing\n",
    "    print(n, factorial_function(n))"
   ]
  },
  {
   "cell_type": "code",
   "execution_count": 138,
   "id": "2d399849",
   "metadata": {},
   "outputs": [
    {
     "name": "stdout",
     "output_type": "stream",
     "text": [
      "56\n"
     ]
    }
   ],
   "source": [
    "def fun(a):\n",
    "    if a > 30:\n",
    "        return 3\n",
    "    else:\n",
    "        return a + fun(a + 3)\n",
    "\n",
    "\n",
    "print(fun(25))"
   ]
  },
  {
   "cell_type": "markdown",
   "id": "5f11a529",
   "metadata": {},
   "source": [
    "# Tuples and Dictionary"
   ]
  },
  {
   "cell_type": "markdown",
   "id": "78425b5e",
   "metadata": {},
   "source": [
    "### Tuples"
   ]
  },
  {
   "cell_type": "code",
   "execution_count": 142,
   "id": "60fd4692",
   "metadata": {},
   "outputs": [
    {
     "data": {
      "text/plain": [
       "[1, 2, 3, 5, 6]"
      ]
     },
     "execution_count": 142,
     "metadata": {},
     "output_type": "execute_result"
    }
   ],
   "source": [
    "# List\n",
    "list_1 = [1, 2, 3, 5, 6]\n",
    "list_1"
   ]
  },
  {
   "cell_type": "code",
   "execution_count": 146,
   "id": "ae54f9f2",
   "metadata": {},
   "outputs": [
    {
     "name": "stdout",
     "output_type": "stream",
     "text": [
      "(1, 2, 4, 8)\n",
      "(1.0, 0.5, 0.25, 0.125)\n"
     ]
    }
   ],
   "source": [
    "# Tuple\n",
    "tuple_1 = (1, 2, 4, 8)\n",
    "tuple_2 = 1., .5, .25, .125\n",
    "print(tuple_1)\n",
    "print(tuple_2)"
   ]
  },
  {
   "cell_type": "code",
   "execution_count": 154,
   "id": "4b854f12",
   "metadata": {},
   "outputs": [
    {
     "name": "stdout",
     "output_type": "stream",
     "text": [
      "()\n",
      "(1,) <class 'tuple'>\n",
      "1 <class 'int'>\n"
     ]
    }
   ],
   "source": [
    "empty_tuple = ()\n",
    "one_element_tuple_1 = (1, )\n",
    "one_element_tuple_2 = 1.,\n",
    "coba = (1)\n",
    "\n",
    "print(empty_tuple)\n",
    "print(one_element_tuple_1, type(one_element_tuple_1))\n",
    "print(coba, type(coba))\n"
   ]
  },
  {
   "cell_type": "code",
   "execution_count": 156,
   "id": "3ff5b6fa",
   "metadata": {},
   "outputs": [
    {
     "name": "stdout",
     "output_type": "stream",
     "text": [
      "1\n",
      "1000\n",
      "(10, 100, 1000)\n",
      "(1, 10)\n",
      "\n",
      "1\n",
      "10\n",
      "100\n",
      "1000\n"
     ]
    }
   ],
   "source": [
    "my_tuple = (1, 10, 100, 1000)\n",
    "\n",
    "print(my_tuple[0])\n",
    "print(my_tuple[-1])\n",
    "print(my_tuple[1:])\n",
    "print(my_tuple[:-2])\n",
    "print()\n",
    "for elem in my_tuple:\n",
    "    print(elem)\n"
   ]
  },
  {
   "cell_type": "code",
   "execution_count": 157,
   "id": "3c155b3f",
   "metadata": {},
   "outputs": [
    {
     "name": "stdout",
     "output_type": "stream",
     "text": [
      "9\n",
      "(1, 10, 100, 1000, 10000)\n",
      "(1, 10, 100, 1, 10, 100, 1, 10, 100)\n",
      "True\n",
      "True\n"
     ]
    }
   ],
   "source": [
    "my_tuple = (1, 10, 100)\n",
    "\n",
    "t1 = my_tuple + (1000, 10000)\n",
    "t2 = my_tuple * 3\n",
    "\n",
    "print(len(t2))\n",
    "print(t1)\n",
    "print(t2)\n",
    "print(10 in my_tuple)\n",
    "print(-10 not in my_tuple)\n"
   ]
  },
  {
   "cell_type": "code",
   "execution_count": 158,
   "id": "9da2430f",
   "metadata": {},
   "outputs": [
    {
     "name": "stdout",
     "output_type": "stream",
     "text": [
      "(2,) (3, 123) (1,)\n"
     ]
    }
   ],
   "source": [
    "var = 123\n",
    "\n",
    "t1 = (1, )\n",
    "t2 = (2, )\n",
    "t3 = (3, var)\n",
    "\n",
    "t1, t2, t3 = t2, t3, t1\n",
    "\n",
    "print(t1, t2, t3)\n"
   ]
  },
  {
   "cell_type": "markdown",
   "id": "9cb3f1d7",
   "metadata": {},
   "source": [
    "### Dictionaries"
   ]
  },
  {
   "cell_type": "code",
   "execution_count": 159,
   "id": "16f11be0",
   "metadata": {},
   "outputs": [
    {
     "name": "stdout",
     "output_type": "stream",
     "text": [
      "{'cat': 'chat', 'dog': 'chien', 'horse': 'cheval'}\n",
      "{'boss': 5551234567, 'Suzy': 22657854310}\n",
      "{}\n"
     ]
    }
   ],
   "source": [
    "dictionary = {\"cat\": \"chat\", \"dog\": \"chien\", \"horse\": \"cheval\"}\n",
    "phone_numbers = {'boss': 5551234567, 'Suzy': 22657854310}\n",
    "empty_dictionary = {}\n",
    "\n",
    "print(dictionary)\n",
    "print(phone_numbers)\n",
    "print(empty_dictionary)\n"
   ]
  },
  {
   "cell_type": "code",
   "execution_count": 163,
   "id": "a1ff0202",
   "metadata": {},
   "outputs": [
    {
     "name": "stdout",
     "output_type": "stream",
     "text": [
      "chat\n",
      "22657854310\n"
     ]
    },
    {
     "ename": "KeyError",
     "evalue": "'chat'",
     "output_type": "error",
     "traceback": [
      "\u001b[0;31m---------------------------------------------------------------------------\u001b[0m",
      "\u001b[0;31mKeyError\u001b[0m                                  Traceback (most recent call last)",
      "Input \u001b[0;32mIn [163]\u001b[0m, in \u001b[0;36m<cell line: 8>\u001b[0;34m()\u001b[0m\n\u001b[1;32m      6\u001b[0m \u001b[38;5;28mprint\u001b[39m(dictionary[\u001b[38;5;124m'\u001b[39m\u001b[38;5;124mcat\u001b[39m\u001b[38;5;124m'\u001b[39m])\n\u001b[1;32m      7\u001b[0m \u001b[38;5;28mprint\u001b[39m(phone_numbers[\u001b[38;5;124m'\u001b[39m\u001b[38;5;124mSuzy\u001b[39m\u001b[38;5;124m'\u001b[39m])\n\u001b[0;32m----> 8\u001b[0m \u001b[38;5;28mprint\u001b[39m(dictionary[\u001b[38;5;124m'\u001b[39m\u001b[38;5;124mchat\u001b[39m\u001b[38;5;124m'\u001b[39m])\n",
      "\u001b[0;31mKeyError\u001b[0m: 'chat'"
     ]
    }
   ],
   "source": [
    "dictionary = {\"cat\": \"chat\", \"dog\": \"chien\", \"horse\": \"cheval\"}\n",
    "phone_numbers = {'boss' : 5551234567, 'Suzy' : 22657854310}\n",
    "empty_dictionary = {}\n",
    "\n",
    "# Print the values here.\n",
    "print(dictionary['cat'])\n",
    "print(phone_numbers['Suzy'])\n",
    "print(dictionary['chat']) #not allowed because it's a one-way definitions."
   ]
  },
  {
   "cell_type": "code",
   "execution_count": 164,
   "id": "0d32f184",
   "metadata": {},
   "outputs": [
    {
     "ename": "KeyError",
     "evalue": "'president'",
     "output_type": "error",
     "traceback": [
      "\u001b[0;31m---------------------------------------------------------------------------\u001b[0m",
      "\u001b[0;31mKeyError\u001b[0m                                  Traceback (most recent call last)",
      "Input \u001b[0;32mIn [164]\u001b[0m, in \u001b[0;36m<cell line: 1>\u001b[0;34m()\u001b[0m\n\u001b[0;32m----> 1\u001b[0m \u001b[38;5;28mprint\u001b[39m(phone_numbers[\u001b[38;5;124m'\u001b[39m\u001b[38;5;124mpresident\u001b[39m\u001b[38;5;124m'\u001b[39m])\n",
      "\u001b[0;31mKeyError\u001b[0m: 'president'"
     ]
    }
   ],
   "source": [
    "print(phone_numbers['president'])"
   ]
  },
  {
   "cell_type": "code",
   "execution_count": 165,
   "id": "e848a6cd",
   "metadata": {},
   "outputs": [
    {
     "name": "stdout",
     "output_type": "stream",
     "text": [
      "cat -> chat\n",
      "lion is not in dictionary\n",
      "horse -> cheval\n"
     ]
    }
   ],
   "source": [
    "dictionary = {\"cat\": \"chat\", \"dog\": \"chien\", \"horse\": \"cheval\"}\n",
    "words = ['cat', 'lion', 'horse']\n",
    "\n",
    "for word in words:\n",
    "    if word in dictionary:\n",
    "        print(word, \"->\", dictionary[word])\n",
    "    else:\n",
    "        print(word, \"is not in dictionary\")"
   ]
  },
  {
   "cell_type": "code",
   "execution_count": 167,
   "id": "81353167",
   "metadata": {},
   "outputs": [],
   "source": [
    "# Good formatting\n",
    "# Example 1:\n",
    "dictionary = {\n",
    "              \"cat\": \"chat\",\n",
    "              \"dog\": \"chien\",\n",
    "              \"horse\": \"cheval\"\n",
    "              }\n",
    "\n",
    "# Example 2:\n",
    "phone_numbers = {'boss': 5551234567,\n",
    "                 'Suzy': 22657854310\n",
    "                 }"
   ]
  },
  {
   "cell_type": "markdown",
   "id": "1713c1f0",
   "metadata": {},
   "source": [
    "### The keys() function"
   ]
  },
  {
   "cell_type": "code",
   "execution_count": 172,
   "id": "092d5fc7",
   "metadata": {},
   "outputs": [
    {
     "name": "stdout",
     "output_type": "stream",
     "text": [
      "lion -> beast\n",
      "cat -> chat\n",
      "dog -> chien\n",
      "horse -> cheval\n"
     ]
    }
   ],
   "source": [
    "dictionary = {\"lion\": \"beast\", \"cat\": \"chat\", \"dog\": \"chien\", \"horse\": \"cheval\"}\n",
    "\n",
    "for key in dictionary.keys():\n",
    "    print(key, \"->\", dictionary[key])\n"
   ]
  },
  {
   "cell_type": "markdown",
   "id": "4b8bc826",
   "metadata": {},
   "source": [
    "### The sorted() function"
   ]
  },
  {
   "cell_type": "code",
   "execution_count": 173,
   "id": "0fb89553",
   "metadata": {},
   "outputs": [
    {
     "name": "stdout",
     "output_type": "stream",
     "text": [
      "cat -> chat\n",
      "dog -> chien\n",
      "horse -> cheval\n",
      "lion -> beast\n"
     ]
    }
   ],
   "source": [
    "dictionary = {\"lion\": \"beast\", \"cat\": \"chat\", \"dog\": \"chien\", \"horse\": \"cheval\"}\n",
    "\n",
    "for key in sorted(dictionary.keys()):\n",
    "    print(key, \"->\", dictionary[key])"
   ]
  },
  {
   "cell_type": "markdown",
   "id": "006b128f",
   "metadata": {},
   "source": [
    "### The items() and values() methods"
   ]
  },
  {
   "cell_type": "code",
   "execution_count": 174,
   "id": "58cfdd01",
   "metadata": {},
   "outputs": [
    {
     "name": "stdout",
     "output_type": "stream",
     "text": [
      "cat -> chat\n",
      "dog -> chien\n",
      "horse -> cheval\n"
     ]
    }
   ],
   "source": [
    "dictionary = {\"cat\": \"chat\", \"dog\": \"chien\", \"horse\": \"cheval\"}\n",
    "\n",
    "for english, french in dictionary.items():\n",
    "    print(english, \"->\", french)\n"
   ]
  },
  {
   "cell_type": "code",
   "execution_count": 175,
   "id": "1fd4c57f",
   "metadata": {},
   "outputs": [
    {
     "name": "stdout",
     "output_type": "stream",
     "text": [
      "chat\n",
      "chien\n",
      "cheval\n"
     ]
    }
   ],
   "source": [
    "dictionary = {\"cat\": \"chat\", \"dog\": \"chien\", \"horse\": \"cheval\"}\n",
    "\n",
    "for french in dictionary.values():\n",
    "    print(french)"
   ]
  },
  {
   "cell_type": "markdown",
   "id": "12c92b52",
   "metadata": {},
   "source": [
    "### Modify"
   ]
  },
  {
   "cell_type": "code",
   "execution_count": 176,
   "id": "bef35574",
   "metadata": {},
   "outputs": [
    {
     "name": "stdout",
     "output_type": "stream",
     "text": [
      "{'cat': 'minou', 'dog': 'chien', 'horse': 'cheval'}\n"
     ]
    }
   ],
   "source": [
    "dictionary = {\"cat\": \"chat\", \"dog\": \"chien\", \"horse\": \"cheval\"}\n",
    "\n",
    "dictionary['cat'] = 'minou'\n",
    "print(dictionary)\n"
   ]
  },
  {
   "cell_type": "code",
   "execution_count": 177,
   "id": "8014d921",
   "metadata": {},
   "outputs": [
    {
     "name": "stdout",
     "output_type": "stream",
     "text": [
      "{'cat': 'chat', 'dog': 'chien', 'horse': 'cheval', 'swan': 'cygne'}\n"
     ]
    }
   ],
   "source": [
    "dictionary = {\"cat\": \"chat\", \"dog\": \"chien\", \"horse\": \"cheval\"}\n",
    "\n",
    "dictionary['swan'] = 'cygne'\n",
    "print(dictionary)"
   ]
  },
  {
   "cell_type": "code",
   "execution_count": 178,
   "id": "72a1a61a",
   "metadata": {},
   "outputs": [
    {
     "name": "stdout",
     "output_type": "stream",
     "text": [
      "{'cat': 'chat', 'dog': 'chien', 'horse': 'cheval', 'duck': 'canard'}\n"
     ]
    }
   ],
   "source": [
    "dictionary = {\"cat\": \"chat\", \"dog\": \"chien\", \"horse\": \"cheval\"}\n",
    "\n",
    "dictionary.update({\"duck\": \"canard\"})\n",
    "print(dictionary)\n"
   ]
  },
  {
   "cell_type": "code",
   "execution_count": 179,
   "id": "2c81a7ed",
   "metadata": {},
   "outputs": [
    {
     "name": "stdout",
     "output_type": "stream",
     "text": [
      "{'cat': 'chat', 'horse': 'cheval'}\n"
     ]
    }
   ],
   "source": [
    "dictionary = {\"cat\": \"chat\", \"dog\": \"chien\", \"horse\": \"cheval\"}\n",
    "\n",
    "del dictionary['dog']\n",
    "print(dictionary)\n"
   ]
  },
  {
   "cell_type": "code",
   "execution_count": 181,
   "id": "d015b961",
   "metadata": {},
   "outputs": [
    {
     "name": "stdout",
     "output_type": "stream",
     "text": [
      "{'cat': 'chat', 'dog': 'chien'}\n"
     ]
    }
   ],
   "source": [
    "dictionary = {\"cat\": \"chat\", \"dog\": \"chien\", \"horse\": \"cheval\"}\n",
    "\n",
    "dictionary.popitem() # removing the last item\n",
    "print(dictionary)    # outputs: {'cat': 'chat', 'dog': 'chien'}\n"
   ]
  },
  {
   "cell_type": "markdown",
   "id": "f90b2c91",
   "metadata": {},
   "source": [
    "### Put them together"
   ]
  },
  {
   "cell_type": "code",
   "execution_count": 183,
   "id": "b358d2d5",
   "metadata": {},
   "outputs": [
    {
     "name": "stdout",
     "output_type": "stream",
     "text": [
      "Enter the student's name: senja\n",
      "Enter the student's score (0-10): 10\n",
      "Enter the student's name: hoki\n",
      "Enter the student's score (0-10): 5\n",
      "Enter the student's name: kot\n",
      "Enter the student's score (0-10): 8\n",
      "Enter the student's name: tua\n",
      "Enter the student's score (0-10): 1\n",
      "Enter the student's name: petang\n",
      "Enter the student's score (0-10): 6\n",
      "Enter the student's name: sore\n",
      "Enter the student's score (0-10): 5\n",
      "Enter the student's name: malam\n",
      "Enter the student's score (0-10): 5\n",
      "Enter the student's name: pagi\n",
      "Enter the student's score (0-10): 9\n",
      "Enter the student's name: beta\n",
      "Enter the student's score (0-10): 1\n",
      "Enter the student's name: nona\n",
      "Enter the student's score (0-10): 3\n",
      "Enter the student's name: mana\n",
      "Enter the student's score (0-10): 3\n",
      "Enter the student's name: \n",
      "beta : 1.0\n",
      "hoki : 5.0\n",
      "kot : 8.0\n",
      "malam : 5.0\n",
      "mana : 3.0\n",
      "nona : 3.0\n",
      "pagi : 9.0\n",
      "petang : 6.0\n",
      "senja : 10.0\n",
      "sore : 5.0\n",
      "tua : 1.0\n"
     ]
    }
   ],
   "source": [
    "school_class = {}\n",
    "\n",
    "while True:\n",
    "    name = input(\"Enter the student's name: \")\n",
    "    if name == '':\n",
    "        break\n",
    "    \n",
    "    score = int(input(\"Enter the student's score (0-10): \"))\n",
    "    if score not in range(0, 11):\n",
    "\t    break\n",
    "    \n",
    "    if name in school_class:\n",
    "        school_class[name] += (score,)\n",
    "    else:\n",
    "        school_class[name] = (score,)\n",
    "        \n",
    "for name in sorted(school_class.keys()):\n",
    "    adding = 0\n",
    "    counter = 0\n",
    "    for score in school_class[name]:\n",
    "        adding += score\n",
    "        counter += 1\n",
    "    print(name, \":\", adding / counter)\n"
   ]
  },
  {
   "cell_type": "markdown",
   "id": "734dce7b",
   "metadata": {},
   "source": [
    "### Key takeaways"
   ]
  },
  {
   "cell_type": "code",
   "execution_count": 184,
   "id": "3a00b59f",
   "metadata": {},
   "outputs": [
    {
     "name": "stdout",
     "output_type": "stream",
     "text": [
      "(1, 2, True, 'a string', (3, 4), [5, 6], None)\n",
      "[1, 2, True, 'a string', (3, 4), [5, 6], None]\n"
     ]
    }
   ],
   "source": [
    "my_tuple = (1, 2, True, \"a string\", (3, 4), [5, 6], None)\n",
    "print(my_tuple)\n",
    "\n",
    "my_list = [1, 2, True, \"a string\", (3, 4), [5, 6], None]\n",
    "print(my_list)\n"
   ]
  },
  {
   "cell_type": "code",
   "execution_count": 185,
   "id": "9d0fc2c3",
   "metadata": {},
   "outputs": [
    {
     "name": "stdout",
     "output_type": "stream",
     "text": [
      "<class 'tuple'>\n"
     ]
    }
   ],
   "source": [
    "empty_tuple = ()\n",
    "print(type(empty_tuple))    # outputs: <class 'tuple'>"
   ]
  },
  {
   "cell_type": "code",
   "execution_count": 186,
   "id": "4bc27417",
   "metadata": {},
   "outputs": [],
   "source": [
    "one_elem_tuple_1 = (\"one\", )    # Brackets and a comma.\n",
    "one_elem_tuple_2 = \"one\",       # No brackets, just a comma.\n"
   ]
  },
  {
   "cell_type": "code",
   "execution_count": 187,
   "id": "c932a259",
   "metadata": {},
   "outputs": [
    {
     "name": "stdout",
     "output_type": "stream",
     "text": [
      "<class 'tuple'>\n",
      "<class 'int'>\n"
     ]
    }
   ],
   "source": [
    "my_tuple_1 = 1, \n",
    "print(type(my_tuple_1))    # outputs: <class 'tuple'>\n",
    "\n",
    "my_tuple_2 = 1             # This is not a tuple.\n",
    "print(type(my_tuple_2))    # outputs: <class 'int'>\n"
   ]
  },
  {
   "cell_type": "code",
   "execution_count": 189,
   "id": "25f583e2",
   "metadata": {},
   "outputs": [
    {
     "ename": "TypeError",
     "evalue": "'tuple' object does not support item assignment",
     "output_type": "error",
     "traceback": [
      "\u001b[0;31m---------------------------------------------------------------------------\u001b[0m",
      "\u001b[0;31mTypeError\u001b[0m                                 Traceback (most recent call last)",
      "Input \u001b[0;32mIn [189]\u001b[0m, in \u001b[0;36m<cell line: 2>\u001b[0;34m()\u001b[0m\n\u001b[1;32m      1\u001b[0m my_tuple \u001b[38;5;241m=\u001b[39m (\u001b[38;5;241m1\u001b[39m, \u001b[38;5;241m2.0\u001b[39m, \u001b[38;5;124m\"\u001b[39m\u001b[38;5;124mstring\u001b[39m\u001b[38;5;124m\"\u001b[39m, [\u001b[38;5;241m3\u001b[39m, \u001b[38;5;241m4\u001b[39m], (\u001b[38;5;241m5\u001b[39m, ), \u001b[38;5;28;01mTrue\u001b[39;00m)\n\u001b[0;32m----> 2\u001b[0m my_tuple[\u001b[38;5;241m2\u001b[39m] \u001b[38;5;241m=\u001b[39m \u001b[38;5;124m\"\u001b[39m\u001b[38;5;124mguitar\u001b[39m\u001b[38;5;124m\"\u001b[39m\n",
      "\u001b[0;31mTypeError\u001b[0m: 'tuple' object does not support item assignment"
     ]
    }
   ],
   "source": [
    "my_tuple = (1, 2.0, \"string\", [3, 4], (5, ), True)\n",
    "my_tuple[2] = \"guitar\"    # The TypeError exception will be raised.\n"
   ]
  },
  {
   "cell_type": "code",
   "execution_count": 190,
   "id": "93a5ea24",
   "metadata": {},
   "outputs": [
    {
     "ename": "NameError",
     "evalue": "name 'my_tuple' is not defined",
     "output_type": "error",
     "traceback": [
      "\u001b[0;31m---------------------------------------------------------------------------\u001b[0m",
      "\u001b[0;31mNameError\u001b[0m                                 Traceback (most recent call last)",
      "Input \u001b[0;32mIn [190]\u001b[0m, in \u001b[0;36m<cell line: 3>\u001b[0;34m()\u001b[0m\n\u001b[1;32m      1\u001b[0m my_tuple \u001b[38;5;241m=\u001b[39m \u001b[38;5;241m1\u001b[39m, \u001b[38;5;241m2\u001b[39m, \u001b[38;5;241m3\u001b[39m, \n\u001b[1;32m      2\u001b[0m \u001b[38;5;28;01mdel\u001b[39;00m my_tuple\n\u001b[0;32m----> 3\u001b[0m \u001b[38;5;28mprint\u001b[39m(my_tuple)\n",
      "\u001b[0;31mNameError\u001b[0m: name 'my_tuple' is not defined"
     ]
    }
   ],
   "source": [
    "my_tuple = 1, 2, 3, \n",
    "del my_tuple\n",
    "print(my_tuple)    # NameError: name 'my_tuple' is not defined\n"
   ]
  },
  {
   "cell_type": "code",
   "execution_count": 191,
   "id": "316873b1",
   "metadata": {},
   "outputs": [
    {
     "name": "stdout",
     "output_type": "stream",
     "text": [
      "1\n",
      "2\n",
      "3\n",
      "False\n",
      "True\n",
      "4\n",
      "(1, 2, 3, 1, 2, 3, 4)\n",
      "(1, 2, 3, 5, 1, 2, 3, 5)\n"
     ]
    }
   ],
   "source": [
    "# Example 1\n",
    "tuple_1 = (1, 2, 3)\n",
    "for elem in tuple_1:\n",
    "    print(elem)\n",
    "\n",
    "# Example 2\n",
    "tuple_2 = (1, 2, 3, 4)\n",
    "print(5 in tuple_2)\n",
    "print(5 not in tuple_2)\n",
    "\n",
    "# Example 3\n",
    "tuple_3 = (1, 2, 3, 5)\n",
    "print(len(tuple_3))\n",
    "\n",
    "# Example 4\n",
    "tuple_4 = tuple_1 + tuple_2\n",
    "tuple_5 = tuple_3 * 2\n",
    "\n",
    "print(tuple_4)\n",
    "print(tuple_5)"
   ]
  },
  {
   "cell_type": "code",
   "execution_count": 192,
   "id": "dc33d250",
   "metadata": {},
   "outputs": [
    {
     "name": "stdout",
     "output_type": "stream",
     "text": [
      "(1, 2, 'string')\n",
      "[2, 4, 6]\n",
      "<class 'list'>\n",
      "(2, 4, 6)\n",
      "<class 'tuple'>\n"
     ]
    }
   ],
   "source": [
    "my_tuple = tuple((1, 2, \"string\"))\n",
    "print(my_tuple)\n",
    "\n",
    "my_list = [2, 4, 6]\n",
    "print(my_list)    # outputs: [2, 4, 6]\n",
    "print(type(my_list))    # outputs: <class 'list'>\n",
    "tup = tuple(my_list)\n",
    "print(tup)    # outputs: (2, 4, 6)\n",
    "print(type(tup))    # outputs: <class 'tuple'>\n"
   ]
  },
  {
   "cell_type": "code",
   "execution_count": 193,
   "id": "88c11d3a",
   "metadata": {},
   "outputs": [
    {
     "name": "stdout",
     "output_type": "stream",
     "text": [
      "<class 'list'>\n"
     ]
    }
   ],
   "source": [
    "tup = 1, 2, 3, \n",
    "my_list = list(tup)\n",
    "print(type(my_list))    # outputs: <class 'list'>\n"
   ]
  },
  {
   "cell_type": "code",
   "execution_count": 195,
   "id": "c9e25b70",
   "metadata": {},
   "outputs": [
    {
     "name": "stdout",
     "output_type": "stream",
     "text": [
      "soil\n",
      "water\n"
     ]
    }
   ],
   "source": [
    "pol_eng_dictionary = {\n",
    "    \"kwiat\": \"flower\",\n",
    "    \"woda\": \"water\",\n",
    "    \"gleba\": \"soil\"\n",
    "    }\n",
    "\n",
    "item_1 = pol_eng_dictionary[\"gleba\"]    # ex. 1\n",
    "print(item_1)    # outputs: soil\n",
    "\n",
    "item_2 = pol_eng_dictionary.get(\"woda\")\n",
    "print(item_2)    # outputs: water\n"
   ]
  },
  {
   "cell_type": "code",
   "execution_count": 196,
   "id": "e0f98153",
   "metadata": {},
   "outputs": [
    {
     "name": "stdout",
     "output_type": "stream",
     "text": [
      "lock\n"
     ]
    }
   ],
   "source": [
    "pol_eng_dictionary = {\n",
    "    \"zamek\": \"castle\",\n",
    "    \"woda\": \"water\",\n",
    "    \"gleba\": \"soil\"\n",
    "    }\n",
    "\n",
    "pol_eng_dictionary[\"zamek\"] = \"lock\"\n",
    "item = pol_eng_dictionary[\"zamek\"]    \n",
    "print(item)  # outputs: lock\n"
   ]
  },
  {
   "cell_type": "code",
   "execution_count": 197,
   "id": "28bd942d",
   "metadata": {},
   "outputs": [
    {
     "name": "stdout",
     "output_type": "stream",
     "text": [
      "{'Adam': 3456783958}\n",
      "{}\n"
     ]
    }
   ],
   "source": [
    "phonebook = {}    # an empty dictionary\n",
    "\n",
    "phonebook[\"Adam\"] = 3456783958    # create/add a key-value pair\n",
    "print(phonebook)    # outputs: {'Adam': 3456783958}\n",
    "\n",
    "del phonebook[\"Adam\"]\n",
    "print(phonebook)    # outputs: {}\n"
   ]
  },
  {
   "cell_type": "code",
   "execution_count": 198,
   "id": "0a676aeb",
   "metadata": {},
   "outputs": [
    {
     "name": "stdout",
     "output_type": "stream",
     "text": [
      "{'kwiat': 'flower', 'gleba': 'soil'}\n",
      "{'kwiat': 'flower'}\n"
     ]
    }
   ],
   "source": [
    "pol_eng_dictionary = {\"kwiat\": \"flower\"}\n",
    "\n",
    "pol_eng_dictionary.update({\"gleba\": \"soil\"})\n",
    "print(pol_eng_dictionary)    # outputs: {'kwiat': 'flower', 'gleba': 'soil'}\n",
    "\n",
    "pol_eng_dictionary.popitem()\n",
    "print(pol_eng_dictionary)    # outputs: {'kwiat': 'flower'}\n"
   ]
  },
  {
   "cell_type": "code",
   "execution_count": 199,
   "id": "d2598e73",
   "metadata": {},
   "outputs": [
    {
     "name": "stdout",
     "output_type": "stream",
     "text": [
      "zamek\n",
      "woda\n",
      "gleba\n"
     ]
    }
   ],
   "source": [
    "pol_eng_dictionary = {\n",
    "    \"zamek\": \"castle\",\n",
    "    \"woda\": \"water\",\n",
    "    \"gleba\": \"soil\"\n",
    "    }\n",
    "\n",
    "for item in pol_eng_dictionary:\n",
    "    print(item) \n",
    "\n",
    "# outputs: zamek\n",
    "#          woda\n",
    "#          gleba\n"
   ]
  },
  {
   "cell_type": "code",
   "execution_count": 200,
   "id": "93ecaad9",
   "metadata": {},
   "outputs": [
    {
     "name": "stdout",
     "output_type": "stream",
     "text": [
      "Pol/Eng -> zamek : castle\n",
      "Pol/Eng -> woda : water\n",
      "Pol/Eng -> gleba : soil\n"
     ]
    }
   ],
   "source": [
    "pol_eng_dictionary = {\n",
    "    \"zamek\": \"castle\",\n",
    "    \"woda\": \"water\",\n",
    "    \"gleba\": \"soil\"\n",
    "    }\n",
    "\n",
    "for key, value in pol_eng_dictionary.items():\n",
    "    print(\"Pol/Eng ->\", key, \":\", value)\n"
   ]
  },
  {
   "cell_type": "code",
   "execution_count": 201,
   "id": "0c64338c",
   "metadata": {},
   "outputs": [
    {
     "name": "stdout",
     "output_type": "stream",
     "text": [
      "Yes\n"
     ]
    }
   ],
   "source": [
    "pol_eng_dictionary = {\n",
    "    \"zamek\": \"castle\",\n",
    "    \"woda\": \"water\",\n",
    "    \"gleba\": \"soil\"\n",
    "    }\n",
    "\n",
    "if \"zamek\" in pol_eng_dictionary:\n",
    "    print(\"Yes\")\n",
    "else:\n",
    "    print(\"No\")\n"
   ]
  },
  {
   "cell_type": "code",
   "execution_count": 202,
   "id": "d8a53944",
   "metadata": {},
   "outputs": [
    {
     "name": "stdout",
     "output_type": "stream",
     "text": [
      "3\n",
      "2\n",
      "0\n"
     ]
    }
   ],
   "source": [
    "pol_eng_dictionary = {\n",
    "    \"zamek\": \"castle\",\n",
    "    \"woda\": \"water\",\n",
    "    \"gleba\": \"soil\"\n",
    "    }\n",
    "\n",
    "print(len(pol_eng_dictionary))    # outputs: 3\n",
    "del pol_eng_dictionary[\"zamek\"]    # remove an item\n",
    "print(len(pol_eng_dictionary))    # outputs: 2\n",
    "\n",
    "pol_eng_dictionary.clear()   # removes all the items\n",
    "print(len(pol_eng_dictionary))    # outputs: 0\n",
    "\n",
    "del pol_eng_dictionary    # removes the dictionary\n"
   ]
  },
  {
   "cell_type": "code",
   "execution_count": 203,
   "id": "97ebc5c8",
   "metadata": {},
   "outputs": [],
   "source": [
    "pol_eng_dictionary = {\n",
    "    \"zamek\": \"castle\",\n",
    "    \"woda\": \"water\",\n",
    "    \"gleba\": \"soil\"\n",
    "    }\n",
    "\n",
    "copy_dictionary = pol_eng_dictionary.copy()"
   ]
  },
  {
   "cell_type": "code",
   "execution_count": 208,
   "id": "681d4aa5",
   "metadata": {},
   "outputs": [
    {
     "name": "stdout",
     "output_type": "stream",
     "text": [
      "{'Adam Smith': 'A', 'Judy Paxton': 'B+', 'Mary Louis': 'A', 'Patrick White': 'C'}\n"
     ]
    }
   ],
   "source": [
    "d1 = {'Adam Smith': 'A', 'Judy Paxton': 'B+'}\n",
    "d2 = {'Mary Louis': 'A', 'Patrick White': 'C'}\n",
    "d3 = {}\n",
    "\n",
    "for item in (d1, d2):\n",
    "    d3.update(item)\n",
    "\n",
    "print(d3)"
   ]
  },
  {
   "cell_type": "markdown",
   "id": "88964b0d",
   "metadata": {},
   "source": [
    "# Exceptions - Debugging"
   ]
  },
  {
   "cell_type": "code",
   "execution_count": 218,
   "id": "163860b6",
   "metadata": {},
   "outputs": [
    {
     "name": "stdout",
     "output_type": "stream",
     "text": [
      "Enter a natural number: 1\n",
      "The reciprocal of 1 is 1.0\n"
     ]
    }
   ],
   "source": [
    "value = int(input('Enter a natural number: '))\n",
    "print('The reciprocal of', value, 'is', 1/value)"
   ]
  },
  {
   "cell_type": "code",
   "execution_count": 221,
   "id": "a7f986f7",
   "metadata": {
    "scrolled": true
   },
   "outputs": [
    {
     "name": "stdout",
     "output_type": "stream",
     "text": [
      "Enter a natural number: 1.1\n"
     ]
    },
    {
     "ename": "ValueError",
     "evalue": "invalid literal for int() with base 10: '1.1'",
     "output_type": "error",
     "traceback": [
      "\u001b[0;31m---------------------------------------------------------------------------\u001b[0m",
      "\u001b[0;31mValueError\u001b[0m                                Traceback (most recent call last)",
      "Input \u001b[0;32mIn [221]\u001b[0m, in \u001b[0;36m<cell line: 1>\u001b[0;34m()\u001b[0m\n\u001b[0;32m----> 1\u001b[0m value \u001b[38;5;241m=\u001b[39m \u001b[38;5;28mint\u001b[39m(\u001b[38;5;28minput\u001b[39m(\u001b[38;5;124m'\u001b[39m\u001b[38;5;124mEnter a natural number: \u001b[39m\u001b[38;5;124m'\u001b[39m))\n\u001b[1;32m      2\u001b[0m \u001b[38;5;28mprint\u001b[39m(\u001b[38;5;124m'\u001b[39m\u001b[38;5;124mThe reciprocal of\u001b[39m\u001b[38;5;124m'\u001b[39m, value, \u001b[38;5;124m'\u001b[39m\u001b[38;5;124mis\u001b[39m\u001b[38;5;124m'\u001b[39m, \u001b[38;5;241m1\u001b[39m\u001b[38;5;241m/\u001b[39mvalue)\n",
      "\u001b[0;31mValueError\u001b[0m: invalid literal for int() with base 10: '1.1'"
     ]
    }
   ],
   "source": [
    "value = int(input('Enter a natural number: '))\n",
    "print('The reciprocal of', value, 'is', 1/value)"
   ]
  },
  {
   "cell_type": "code",
   "execution_count": 223,
   "id": "b41bfe77",
   "metadata": {},
   "outputs": [
    {
     "name": "stdout",
     "output_type": "stream",
     "text": [
      "Enter a natural number: 0\n"
     ]
    },
    {
     "ename": "ZeroDivisionError",
     "evalue": "division by zero",
     "output_type": "error",
     "traceback": [
      "\u001b[0;31m---------------------------------------------------------------------------\u001b[0m",
      "\u001b[0;31mZeroDivisionError\u001b[0m                         Traceback (most recent call last)",
      "Input \u001b[0;32mIn [223]\u001b[0m, in \u001b[0;36m<cell line: 2>\u001b[0;34m()\u001b[0m\n\u001b[1;32m      1\u001b[0m value \u001b[38;5;241m=\u001b[39m \u001b[38;5;28mint\u001b[39m(\u001b[38;5;28minput\u001b[39m(\u001b[38;5;124m'\u001b[39m\u001b[38;5;124mEnter a natural number: \u001b[39m\u001b[38;5;124m'\u001b[39m))\n\u001b[0;32m----> 2\u001b[0m \u001b[38;5;28mprint\u001b[39m(\u001b[38;5;124m'\u001b[39m\u001b[38;5;124mThe reciprocal of\u001b[39m\u001b[38;5;124m'\u001b[39m, value, \u001b[38;5;124m'\u001b[39m\u001b[38;5;124mis\u001b[39m\u001b[38;5;124m'\u001b[39m, \u001b[38;5;241m1\u001b[39m\u001b[38;5;241m/\u001b[39mvalue)\n",
      "\u001b[0;31mZeroDivisionError\u001b[0m: division by zero"
     ]
    }
   ],
   "source": [
    "value = int(input('Enter a natural number: '))\n",
    "print('The reciprocal of', value, 'is', 1/value)"
   ]
  },
  {
   "cell_type": "markdown",
   "id": "9ef91424",
   "metadata": {},
   "source": [
    "### The try-except branch"
   ]
  },
  {
   "cell_type": "code",
   "execution_count": 220,
   "id": "20d358f7",
   "metadata": {},
   "outputs": [
    {
     "name": "stdout",
     "output_type": "stream",
     "text": [
      "Enter a natural number: 1.1\n",
      "I do not know what to do.\n"
     ]
    }
   ],
   "source": [
    "try:\n",
    "    value = int(input('Enter a natural number: '))\n",
    "    print('The reciprocal of', value, 'is', 1/value)        \n",
    "except:\n",
    "    print('I do not know what to do.')"
   ]
  },
  {
   "cell_type": "code",
   "execution_count": 222,
   "id": "b361d5c2",
   "metadata": {},
   "outputs": [
    {
     "name": "stdout",
     "output_type": "stream",
     "text": [
      "Enter a natural number: 0\n",
      "Division by zero is not allowed in our Universe.\n"
     ]
    }
   ],
   "source": [
    "try:\n",
    "    value = int(input('Enter a natural number: '))\n",
    "    print('The reciprocal of', value, 'is', 1/value)        \n",
    "except ValueError:\n",
    "    print('I do not know what to do.')    \n",
    "except ZeroDivisionError:\n",
    "    print('Division by zero is not allowed in our Universe.') \n"
   ]
  },
  {
   "cell_type": "code",
   "execution_count": 228,
   "id": "2eb8c74b",
   "metadata": {},
   "outputs": [
    {
     "name": "stdout",
     "output_type": "stream",
     "text": [
      "Enter a natural number: a\n",
      "I do not know what to do.\n"
     ]
    }
   ],
   "source": [
    "try:\n",
    "    value = int(input('Enter a natural number: '))\n",
    "    print('The reciprocal of', value, 'is', 1/value)        \n",
    "except ValueError:\n",
    "    print('I do not know what to do.')    \n",
    "except ZeroDivisionError:\n",
    "    print('Division by zero is not allowed in our Universe.')    \n",
    "except:\n",
    "    print('Something strange has happened here... Sorry!')\n"
   ]
  },
  {
   "cell_type": "markdown",
   "id": "46d5c266",
   "metadata": {},
   "source": [
    "#### Useful exceptions"
   ]
  },
  {
   "cell_type": "code",
   "execution_count": 233,
   "id": "802d9f96",
   "metadata": {},
   "outputs": [
    {
     "name": "stdout",
     "output_type": "stream",
     "text": [
      "Enter a natural number: 123as\n",
      "I do not know what to do.\n"
     ]
    }
   ],
   "source": [
    "try:\n",
    "    value = int(input('Enter a natural number: '))\n",
    "    print('The reciprocal of', value, 'is', 1/value)        \n",
    "except ValueError:\n",
    "    print('I do not know what to do.')    \n",
    "except ZeroDivisionError:\n",
    "    print('Division by zero is not allowed in our Universe.')    \n",
    "except TypeError:\n",
    "    print('Something strange has happened here... Sorry!')\n",
    "except AttributeError:\n",
    "    print('A')\n",
    "# except SyntaxError:\n",
    "#     print('B')\n"
   ]
  },
  {
   "cell_type": "markdown",
   "id": "a88b7693",
   "metadata": {},
   "source": [
    "### Testing and debugging"
   ]
  },
  {
   "cell_type": "code",
   "execution_count": 236,
   "id": "7a7bb501",
   "metadata": {},
   "outputs": [
    {
     "name": "stdout",
     "output_type": "stream",
     "text": [
      "Enter current temperature:1\n",
      "Above zero\n"
     ]
    }
   ],
   "source": [
    "temperature = float(input('Enter current temperature:'))\n",
    "\n",
    "if temperature > 0:\n",
    "    print(\"Above zero\")\n",
    "elif temperature < 0:\n",
    "    print(\"Below zero\")\n",
    "else:\n",
    "    print(\"Zero\")\n"
   ]
  },
  {
   "cell_type": "code",
   "execution_count": 239,
   "id": "fa36cdcc",
   "metadata": {},
   "outputs": [
    {
     "name": "stdout",
     "output_type": "stream",
     "text": [
      "Enter current temperature:0\n",
      "Zero\n"
     ]
    }
   ],
   "source": [
    "temperature = float(input('Enter current temperature:'))\n",
    "\n",
    "if temperature > 0:\n",
    "    print(\"Above zero\")\n",
    "elif temperature < 0:\n",
    "    prin(\"Below zero\")\n",
    "else:\n",
    "    print(\"Zero\")\n"
   ]
  },
  {
   "cell_type": "code",
   "execution_count": 240,
   "id": "0d3cae39",
   "metadata": {},
   "outputs": [
    {
     "name": "stdout",
     "output_type": "stream",
     "text": [
      "Enter an integer number: 1.1\n",
      "Warning: the value entered is not a valid number. Try again...\n",
      "Enter an integer number: 1a\n",
      "Warning: the value entered is not a valid number. Try again...\n",
      "Enter an integer number: 1\n",
      "0.5\n"
     ]
    }
   ],
   "source": [
    "while True:\n",
    "    try:\n",
    "        number = int(input(\"Enter an integer number: \"))\n",
    "        print(number/2)\n",
    "        break\n",
    "    except:\n",
    "        print(\"Warning: the value entered is not a valid number. Try again...\")\n"
   ]
  },
  {
   "cell_type": "code",
   "execution_count": 241,
   "id": "b4e9b904",
   "metadata": {},
   "outputs": [
    {
     "name": "stdout",
     "output_type": "stream",
     "text": [
      "Enter an int number: 1.1\n",
      "Wrong value.\n",
      "Enter an int number: 0\n",
      "Sorry. I cannot divide by zero.\n",
      "Enter an int number: 123\n",
      "0.04065040650406504\n"
     ]
    }
   ],
   "source": [
    "while True:\n",
    "    try:\n",
    "        number = int(input(\"Enter an int number: \"))\n",
    "        print(5/number)\n",
    "        break\n",
    "    except ValueError:\n",
    "        print(\"Wrong value.\")\n",
    "    except ZeroDivisionError:\n",
    "        print(\"Sorry. I cannot divide by zero.\")\n",
    "    except:\n",
    "        print(\"I don't know what to do...\")"
   ]
  },
  {
   "cell_type": "code",
   "execution_count": 243,
   "id": "b86e7cbd",
   "metadata": {},
   "outputs": [
    {
     "name": "stdout",
     "output_type": "stream",
     "text": [
      "Enter an int number: 0\n",
      "Wrong value or No division by zero rule broken.\n",
      "Enter an int number: 1.1\n",
      "Wrong value or No division by zero rule broken.\n",
      "Enter an int number: 123\n",
      "0.04065040650406504\n"
     ]
    }
   ],
   "source": [
    "while True:\n",
    "    try:\n",
    "        number = int(input(\"Enter an int number: \"))\n",
    "        print(5/number)\n",
    "        break\n",
    "    except (ValueError, ZeroDivisionError):\n",
    "        print(\"Wrong value or No division by zero rule broken.\")\n",
    "    except:\n",
    "        print(\"Sorry, something went wrong...\")\n"
   ]
  },
  {
   "cell_type": "code",
   "execution_count": null,
   "id": "a3800d48",
   "metadata": {},
   "outputs": [],
   "source": []
  }
 ],
 "metadata": {
  "kernelspec": {
   "display_name": "Python 3",
   "language": "python",
   "name": "python3"
  },
  "language_info": {
   "codemirror_mode": {
    "name": "ipython",
    "version": 3
   },
   "file_extension": ".py",
   "mimetype": "text/x-python",
   "name": "python",
   "nbconvert_exporter": "python",
   "pygments_lexer": "ipython3",
   "version": "3.9.5"
  }
 },
 "nbformat": 4,
 "nbformat_minor": 5
}
