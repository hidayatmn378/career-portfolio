{
 "cells": [
  {
   "cell_type": "markdown",
   "id": "26262cb1",
   "metadata": {},
   "source": [
    "# Strings, String and List Methods, Exceptions\n",
    "---"
   ]
  },
  {
   "cell_type": "markdown",
   "id": "c5a13cfc",
   "metadata": {},
   "source": [
    "# String"
   ]
  },
  {
   "cell_type": "code",
   "execution_count": 1,
   "id": "7aa79544",
   "metadata": {},
   "outputs": [
    {
     "name": "stdout",
     "output_type": "stream",
     "text": [
      "2\n",
      "0\n",
      "3\n"
     ]
    }
   ],
   "source": [
    "# Example 1\n",
    "\n",
    "word = 'by'\n",
    "print(len(word))\n",
    "\n",
    "\n",
    "# Example 2\n",
    "\n",
    "empty = ''\n",
    "print(len(empty))\n",
    "\n",
    "\n",
    "# Example 3\n",
    "\n",
    "i_am = 'I\\'m'\n",
    "print(len(i_am))\n"
   ]
  },
  {
   "cell_type": "code",
   "execution_count": 4,
   "id": "2cd004be",
   "metadata": {},
   "outputs": [
    {
     "name": "stdout",
     "output_type": "stream",
     "text": [
      "15\n"
     ]
    }
   ],
   "source": [
    "multiline = '''Line #1\n",
    "Line #2'''\n",
    "\n",
    "print(len(multiline))\n"
   ]
  },
  {
   "cell_type": "markdown",
   "id": "c7991e73",
   "metadata": {},
   "source": [
    "### Operator on strings \n",
    "(concatenated, replicated)"
   ]
  },
  {
   "cell_type": "code",
   "execution_count": 5,
   "id": "ea610b67",
   "metadata": {},
   "outputs": [
    {
     "name": "stdout",
     "output_type": "stream",
     "text": [
      "ab\n",
      "ba\n",
      "aaaaa\n",
      "bbbb\n"
     ]
    }
   ],
   "source": [
    "str1 = 'a'\n",
    "str2 = 'b'\n",
    "\n",
    "print(str1 + str2)\n",
    "print(str2 + str1)\n",
    "print(5 * 'a')\n",
    "print('b' * 4)\n"
   ]
  },
  {
   "cell_type": "markdown",
   "id": "54cc9e0d",
   "metadata": {},
   "source": [
    "### ord() function"
   ]
  },
  {
   "cell_type": "code",
   "execution_count": 51,
   "id": "f5b7cdc3",
   "metadata": {},
   "outputs": [
    {
     "name": "stdout",
     "output_type": "stream",
     "text": [
      "2\n",
      "32\n"
     ]
    }
   ],
   "source": [
    "# Demonstrating the ord() function. to convert into an ASCII number\n",
    "\n",
    "char_1 = 'a'\n",
    "char_2 = ' '  # space\n",
    "\n",
    "print(ord('c')-ord(char_1))\n",
    "print(ord(char_2))\n"
   ]
  },
  {
   "cell_type": "markdown",
   "id": "dcfba8ca",
   "metadata": {},
   "source": [
    "### chr() function"
   ]
  },
  {
   "cell_type": "code",
   "execution_count": 8,
   "id": "47fae4fc",
   "metadata": {},
   "outputs": [
    {
     "name": "stdout",
     "output_type": "stream",
     "text": [
      "a\n",
      "α\n"
     ]
    }
   ],
   "source": [
    "# Demonstrating the chr() function.\n",
    "\n",
    "print(chr(97))\n",
    "print(chr(945))\n"
   ]
  },
  {
   "cell_type": "code",
   "execution_count": 1,
   "id": "d8434675",
   "metadata": {},
   "outputs": [
    {
     "name": "stdout",
     "output_type": "stream",
     "text": [
      "r\n"
     ]
    }
   ],
   "source": [
    "print(chr(ord('p')+2))"
   ]
  },
  {
   "cell_type": "markdown",
   "id": "e25c4cc6",
   "metadata": {},
   "source": [
    "### Indexing"
   ]
  },
  {
   "cell_type": "code",
   "execution_count": 9,
   "id": "ebc4c1cd",
   "metadata": {},
   "outputs": [
    {
     "name": "stdout",
     "output_type": "stream",
     "text": [
      "s i l l y   w a l k s \n"
     ]
    }
   ],
   "source": [
    "# Indexing strings.\n",
    "\n",
    "the_string = 'silly walks'\n",
    "\n",
    "for ix in range(len(the_string)):\n",
    "    print(the_string[ix], end=' ')\n",
    "\n",
    "print()\n"
   ]
  },
  {
   "cell_type": "code",
   "execution_count": 10,
   "id": "86442f42",
   "metadata": {},
   "outputs": [
    {
     "name": "stdout",
     "output_type": "stream",
     "text": [
      "s i l l y   w a l k s \n"
     ]
    }
   ],
   "source": [
    "# Iterating through a string.\n",
    "\n",
    "the_string = 'silly walks'\n",
    "\n",
    "for ix in the_string:\n",
    "    print(ix, end=' ')\n",
    "\n",
    "print()\n",
    "\n"
   ]
  },
  {
   "cell_type": "markdown",
   "id": "38158730",
   "metadata": {},
   "source": [
    "### Slices\n",
    "\n"
   ]
  },
  {
   "cell_type": "code",
   "execution_count": 12,
   "id": "5a56bb77",
   "metadata": {},
   "outputs": [
    {
     "name": "stdout",
     "output_type": "stream",
     "text": [
      "bd\n",
      "efg\n",
      "abd\n",
      "e\n",
      "e\n",
      "adf\n",
      "beg\n"
     ]
    }
   ],
   "source": [
    "# Slices\n",
    "\n",
    "alpha = \"abdefg\"\n",
    "\n",
    "print(alpha[1:3])\n",
    "print(alpha[3:])\n",
    "print(alpha[:3])\n",
    "print(alpha[3:-2])\n",
    "print(alpha[-3:4])\n",
    "print(alpha[::2])\n",
    "print(alpha[1::2])\n"
   ]
  },
  {
   "cell_type": "markdown",
   "id": "70eefef4",
   "metadata": {},
   "source": [
    "### The in and not in operator"
   ]
  },
  {
   "cell_type": "code",
   "execution_count": 13,
   "id": "70c27a30",
   "metadata": {},
   "outputs": [
    {
     "name": "stdout",
     "output_type": "stream",
     "text": [
      "True\n",
      "False\n",
      "False\n",
      "True\n",
      "False\n"
     ]
    }
   ],
   "source": [
    "alphabet = \"abcdefghijklmnopqrstuvwxyz\"\n",
    "\n",
    "print(\"f\" in alphabet)\n",
    "print(\"F\" in alphabet)\n",
    "print(\"1\" in alphabet)\n",
    "print(\"ghi\" in alphabet)\n",
    "print(\"Xyz\" in alphabet)\n",
    "\n"
   ]
  },
  {
   "cell_type": "code",
   "execution_count": 14,
   "id": "521ab574",
   "metadata": {},
   "outputs": [
    {
     "name": "stdout",
     "output_type": "stream",
     "text": [
      "False\n",
      "True\n",
      "True\n",
      "False\n",
      "True\n"
     ]
    }
   ],
   "source": [
    "alphabet = \"abcdefghijklmnopqrstuvwxyz\"\n",
    "\n",
    "print(\"f\" not in alphabet)\n",
    "print(\"F\" not in alphabet)\n",
    "print(\"1\" not in alphabet)\n",
    "print(\"ghi\" not in alphabet)\n",
    "print(\"Xyz\" not in alphabet)\n"
   ]
  },
  {
   "cell_type": "markdown",
   "id": "9e883ab4",
   "metadata": {},
   "source": [
    "### Issues (immutable)"
   ]
  },
  {
   "cell_type": "code",
   "execution_count": 15,
   "id": "775e7768",
   "metadata": {},
   "outputs": [
    {
     "ename": "TypeError",
     "evalue": "'str' object doesn't support item deletion",
     "output_type": "error",
     "traceback": [
      "\u001b[0;31m---------------------------------------------------------------------------\u001b[0m",
      "\u001b[0;31mTypeError\u001b[0m                                 Traceback (most recent call last)",
      "Input \u001b[0;32mIn [15]\u001b[0m, in \u001b[0;36m<cell line: 2>\u001b[0;34m()\u001b[0m\n\u001b[1;32m      1\u001b[0m alphabet \u001b[38;5;241m=\u001b[39m \u001b[38;5;124m\"\u001b[39m\u001b[38;5;124mabcdefghijklmnopqrstuvwxyz\u001b[39m\u001b[38;5;124m\"\u001b[39m\n\u001b[0;32m----> 2\u001b[0m \u001b[38;5;28;01mdel\u001b[39;00m alphabet[\u001b[38;5;241m0\u001b[39m]\n",
      "\u001b[0;31mTypeError\u001b[0m: 'str' object doesn't support item deletion"
     ]
    }
   ],
   "source": [
    "alphabet = \"abcdefghijklmnopqrstuvwxyz\"\n",
    "del alphabet[0]"
   ]
  },
  {
   "cell_type": "code",
   "execution_count": 22,
   "id": "631d7d55",
   "metadata": {},
   "outputs": [],
   "source": [
    "# delete the whole variable to make it works\n",
    "alphabet = \"abcdefghijklmnopqrstuvwxyz\"\n",
    "del alphabet"
   ]
  },
  {
   "cell_type": "code",
   "execution_count": 16,
   "id": "0f09698e",
   "metadata": {},
   "outputs": [
    {
     "ename": "AttributeError",
     "evalue": "'str' object has no attribute 'append'",
     "output_type": "error",
     "traceback": [
      "\u001b[0;31m---------------------------------------------------------------------------\u001b[0m",
      "\u001b[0;31mAttributeError\u001b[0m                            Traceback (most recent call last)",
      "Input \u001b[0;32mIn [16]\u001b[0m, in \u001b[0;36m<cell line: 2>\u001b[0;34m()\u001b[0m\n\u001b[1;32m      1\u001b[0m alphabet \u001b[38;5;241m=\u001b[39m \u001b[38;5;124m\"\u001b[39m\u001b[38;5;124mabcdefghijklmnopqrstuvwxyz\u001b[39m\u001b[38;5;124m\"\u001b[39m\n\u001b[0;32m----> 2\u001b[0m alphabet\u001b[38;5;241m.\u001b[39mappend(\u001b[38;5;124m\"\u001b[39m\u001b[38;5;124mA\u001b[39m\u001b[38;5;124m\"\u001b[39m)\n",
      "\u001b[0;31mAttributeError\u001b[0m: 'str' object has no attribute 'append'"
     ]
    }
   ],
   "source": [
    "alphabet = \"abcdefghijklmnopqrstuvwxyz\"\n",
    "alphabet.append(\"A\")"
   ]
  },
  {
   "cell_type": "code",
   "execution_count": 17,
   "id": "b01bfece",
   "metadata": {},
   "outputs": [
    {
     "ename": "AttributeError",
     "evalue": "'str' object has no attribute 'insert'",
     "output_type": "error",
     "traceback": [
      "\u001b[0;31m---------------------------------------------------------------------------\u001b[0m",
      "\u001b[0;31mAttributeError\u001b[0m                            Traceback (most recent call last)",
      "Input \u001b[0;32mIn [17]\u001b[0m, in \u001b[0;36m<cell line: 2>\u001b[0;34m()\u001b[0m\n\u001b[1;32m      1\u001b[0m alphabet \u001b[38;5;241m=\u001b[39m \u001b[38;5;124m\"\u001b[39m\u001b[38;5;124mabcdefghijklmnopqrstuvwxyz\u001b[39m\u001b[38;5;124m\"\u001b[39m\n\u001b[0;32m----> 2\u001b[0m alphabet\u001b[38;5;241m.\u001b[39minsert(\u001b[38;5;241m0\u001b[39m, \u001b[38;5;124m\"\u001b[39m\u001b[38;5;124mA\u001b[39m\u001b[38;5;124m\"\u001b[39m)\n",
      "\u001b[0;31mAttributeError\u001b[0m: 'str' object has no attribute 'insert'"
     ]
    }
   ],
   "source": [
    "alphabet = \"abcdefghijklmnopqrstuvwxyz\"\n",
    "alphabet.insert(0, \"A\")"
   ]
  },
  {
   "cell_type": "markdown",
   "id": "25bd2dc3",
   "metadata": {},
   "source": [
    "### More"
   ]
  },
  {
   "cell_type": "code",
   "execution_count": 23,
   "id": "a8f53de7",
   "metadata": {},
   "outputs": [
    {
     "name": "stdout",
     "output_type": "stream",
     "text": [
      "abcdefghijklmnopqrstuvwxyz\n"
     ]
    }
   ],
   "source": [
    "alphabet = \"bcdefghijklmnopqrstuvwxy\"\n",
    "\n",
    "alphabet = \"a\" + alphabet\n",
    "alphabet = alphabet + \"z\"\n",
    "\n",
    "print(alphabet)\n"
   ]
  },
  {
   "cell_type": "markdown",
   "id": "96a28834",
   "metadata": {},
   "source": [
    "### min() function"
   ]
  },
  {
   "cell_type": "code",
   "execution_count": 24,
   "id": "a0114059",
   "metadata": {},
   "outputs": [
    {
     "name": "stdout",
     "output_type": "stream",
     "text": [
      "A\n",
      "[ ]\n",
      "0\n"
     ]
    }
   ],
   "source": [
    "# Demonstrating min() - Example 1:\n",
    "print(min(\"aAbByYzZ\"))\n",
    "\n",
    "\n",
    "# Demonstrating min() - Examples 2 & 3:\n",
    "t = 'The Knights Who Say \"Ni!\"'\n",
    "print('[' + min(t) + ']')\n",
    "\n",
    "t = [0, 1, 2]\n",
    "print(min(t))\n"
   ]
  },
  {
   "cell_type": "markdown",
   "id": "83662974",
   "metadata": {},
   "source": [
    "### max() function"
   ]
  },
  {
   "cell_type": "code",
   "execution_count": 25,
   "id": "c64b0ef2",
   "metadata": {},
   "outputs": [
    {
     "name": "stdout",
     "output_type": "stream",
     "text": [
      "z\n",
      "[y]\n",
      "2\n"
     ]
    }
   ],
   "source": [
    "# Demonstrating max() - Example 1:\n",
    "print(max(\"aAbByYzZ\"))\n",
    "\n",
    "\n",
    "# Demonstrating max() - Examples 2 & 3:\n",
    "t = 'The Knights Who Say \"Ni!\"'\n",
    "print('[' + max(t) + ']')\n",
    "\n",
    "t = [0, 1, 2]\n",
    "print(max(t))\n"
   ]
  },
  {
   "cell_type": "markdown",
   "id": "fa4be610",
   "metadata": {},
   "source": [
    "### index() method"
   ]
  },
  {
   "cell_type": "code",
   "execution_count": 26,
   "id": "448f3518",
   "metadata": {},
   "outputs": [
    {
     "name": "stdout",
     "output_type": "stream",
     "text": [
      "2\n",
      "7\n",
      "1\n"
     ]
    }
   ],
   "source": [
    "# Demonstrating the index() method:\n",
    "print(\"aAbByYzZaA\".index(\"b\"))\n",
    "print(\"aAbByYzZaA\".index(\"Z\"))\n",
    "print(\"aAbByYzZaA\".index(\"A\"))\n"
   ]
  },
  {
   "cell_type": "markdown",
   "id": "259d7d01",
   "metadata": {},
   "source": [
    "### list() and count()"
   ]
  },
  {
   "cell_type": "code",
   "execution_count": 27,
   "id": "079853a1",
   "metadata": {},
   "outputs": [
    {
     "name": "stdout",
     "output_type": "stream",
     "text": [
      "['a', 'b', 'c', 'a', 'b', 'c']\n",
      "2\n",
      "0\n"
     ]
    }
   ],
   "source": [
    "# Demonstrating the list() function:\n",
    "print(list(\"abcabc\"))\n",
    "\n",
    "# Demonstrating the count() method:\n",
    "print(\"abcabc\".count(\"b\"))\n",
    "print('abcabc'.count(\"d\"))\n"
   ]
  },
  {
   "cell_type": "markdown",
   "id": "b561634d",
   "metadata": {},
   "source": [
    "# String methods"
   ]
  },
  {
   "cell_type": "markdown",
   "id": "09e6b4e4",
   "metadata": {},
   "source": [
    "### capitalize() method"
   ]
  },
  {
   "cell_type": "code",
   "execution_count": 28,
   "id": "643ac8e4",
   "metadata": {},
   "outputs": [
    {
     "name": "stdout",
     "output_type": "stream",
     "text": [
      "Abcd\n"
     ]
    }
   ],
   "source": [
    "# Demonstrating the capitalize() method:\n",
    "print('aBcD'.capitalize())\n"
   ]
  },
  {
   "cell_type": "code",
   "execution_count": 29,
   "id": "539a3233",
   "metadata": {},
   "outputs": [
    {
     "name": "stdout",
     "output_type": "stream",
     "text": [
      "Alpha\n",
      "Alpha\n",
      " alpha\n",
      "123\n",
      "Αβγδ\n"
     ]
    }
   ],
   "source": [
    "print(\"Alpha\".capitalize())\n",
    "print('ALPHA'.capitalize())\n",
    "print(' Alpha'.capitalize())\n",
    "print('123'.capitalize())\n",
    "print(\"αβγδ\".capitalize())"
   ]
  },
  {
   "cell_type": "markdown",
   "id": "33d9e890",
   "metadata": {},
   "source": [
    "### center() method"
   ]
  },
  {
   "cell_type": "code",
   "execution_count": 30,
   "id": "6bdf2fe4",
   "metadata": {},
   "outputs": [
    {
     "name": "stdout",
     "output_type": "stream",
     "text": [
      "[  alpha   ]\n"
     ]
    }
   ],
   "source": [
    "# Demonstrating the center() method:\n",
    "print('[' + 'alpha'.center(10) + ']')\n"
   ]
  },
  {
   "cell_type": "code",
   "execution_count": 31,
   "id": "fc1d6b87",
   "metadata": {},
   "outputs": [
    {
     "name": "stdout",
     "output_type": "stream",
     "text": [
      "[Beta]\n",
      "[Beta]\n",
      "[ Beta ]\n"
     ]
    }
   ],
   "source": [
    "print('[' + 'Beta'.center(2) + ']')\n",
    "print('[' + 'Beta'.center(4) + ']')\n",
    "print('[' + 'Beta'.center(6) + ']')"
   ]
  },
  {
   "cell_type": "code",
   "execution_count": 32,
   "id": "833e82a1",
   "metadata": {},
   "outputs": [
    {
     "name": "stdout",
     "output_type": "stream",
     "text": [
      "[*******gamma********]\n"
     ]
    }
   ],
   "source": [
    "print('[' + 'gamma'.center(20, '*') + ']')"
   ]
  },
  {
   "cell_type": "markdown",
   "id": "8d6b8255",
   "metadata": {},
   "source": [
    "### endswith() method"
   ]
  },
  {
   "cell_type": "code",
   "execution_count": 33,
   "id": "5504a922",
   "metadata": {},
   "outputs": [
    {
     "name": "stdout",
     "output_type": "stream",
     "text": [
      "yes\n"
     ]
    }
   ],
   "source": [
    "# Demonstrating the endswith() method:\n",
    "if \"epsilon\".endswith(\"on\"):\n",
    "    print(\"yes\")\n",
    "else:\n",
    "    print(\"no\")\n"
   ]
  },
  {
   "cell_type": "code",
   "execution_count": 34,
   "id": "ad2c3625",
   "metadata": {},
   "outputs": [
    {
     "name": "stdout",
     "output_type": "stream",
     "text": [
      "True\n",
      "False\n",
      "False\n",
      "True\n"
     ]
    }
   ],
   "source": [
    "t = \"zeta\"\n",
    "print(t.endswith(\"a\"))\n",
    "print(t.endswith(\"A\"))\n",
    "print(t.endswith(\"et\"))\n",
    "print(t.endswith(\"eta\"))"
   ]
  },
  {
   "cell_type": "markdown",
   "id": "31f88b85",
   "metadata": {},
   "source": [
    "### find() method"
   ]
  },
  {
   "cell_type": "code",
   "execution_count": 35,
   "id": "d82d0df1",
   "metadata": {},
   "outputs": [
    {
     "name": "stdout",
     "output_type": "stream",
     "text": [
      "1\n",
      "-1\n"
     ]
    }
   ],
   "source": [
    "# Demonstrating the find() method:\n",
    "print(\"Eta\".find(\"ta\"))\n",
    "print(\"Eta\".find(\"mma\"))\n",
    "\n",
    "# don't use find() if you only want to check if a single character occurs \n",
    "# within a string - the in operator will be significantly faster."
   ]
  },
  {
   "cell_type": "code",
   "execution_count": 37,
   "id": "0f41771f",
   "metadata": {},
   "outputs": [
    {
     "name": "stdout",
     "output_type": "stream",
     "text": [
      "2\n",
      "2\n",
      "0\n",
      "-1\n"
     ]
    }
   ],
   "source": [
    "t = 'theta'\n",
    "print(t.find('eta'))\n",
    "print(t.find('et'))\n",
    "print(t.find('the'))\n",
    "print(t.find('ha'))\n"
   ]
  },
  {
   "cell_type": "code",
   "execution_count": 38,
   "id": "5770525e",
   "metadata": {},
   "outputs": [
    {
     "name": "stdout",
     "output_type": "stream",
     "text": [
      "4\n"
     ]
    }
   ],
   "source": [
    "print('kappa'.find('a', 2))"
   ]
  },
  {
   "cell_type": "code",
   "execution_count": 39,
   "id": "2c56c8b8",
   "metadata": {},
   "outputs": [
    {
     "name": "stdout",
     "output_type": "stream",
     "text": [
      "15\n",
      "80\n",
      "198\n",
      "221\n",
      "238\n"
     ]
    }
   ],
   "source": [
    "the_text = \"\"\"A variation of the ordinary lorem ipsum\n",
    "text has been used in typesetting since the 1960s \n",
    "or earlier, when it was popularized by advertisements \n",
    "for Letraset transfer sheets. It was introduced to \n",
    "the Information Age in the mid-1980s by the Aldus Corporation, \n",
    "which employed it in graphics and word-processing templates\n",
    "for its desktop publishing program PageMaker (from Wikipedia)\"\"\"\n",
    "\n",
    "fnd = the_text.find('the')\n",
    "while fnd != -1:\n",
    "    print(fnd)\n",
    "    fnd = the_text.find('the', fnd + 1)\n"
   ]
  },
  {
   "cell_type": "code",
   "execution_count": 40,
   "id": "ec2d14b4",
   "metadata": {},
   "outputs": [
    {
     "name": "stdout",
     "output_type": "stream",
     "text": [
      "1\n",
      "-1\n"
     ]
    }
   ],
   "source": [
    "print('kappa'.find('a', 1, 4))\n",
    "print('kappa'.find('a', 2, 4))"
   ]
  },
  {
   "cell_type": "markdown",
   "id": "ab8e2de4",
   "metadata": {},
   "source": [
    "### isalnum() method"
   ]
  },
  {
   "cell_type": "code",
   "execution_count": 41,
   "id": "06c79591",
   "metadata": {},
   "outputs": [
    {
     "name": "stdout",
     "output_type": "stream",
     "text": [
      "True\n",
      "True\n",
      "True\n",
      "False\n",
      "False\n",
      "False\n"
     ]
    }
   ],
   "source": [
    "# Demonstrating the isalnum() method:\n",
    "print('lambda30'.isalnum())\n",
    "print('lambda'.isalnum())\n",
    "print('30'.isalnum())\n",
    "print('@'.isalnum())\n",
    "print('lambda_30'.isalnum())\n",
    "print(''.isalnum())\n"
   ]
  },
  {
   "cell_type": "code",
   "execution_count": 42,
   "id": "516e5904",
   "metadata": {},
   "outputs": [
    {
     "name": "stdout",
     "output_type": "stream",
     "text": [
      "False\n",
      "True\n",
      "True\n"
     ]
    }
   ],
   "source": [
    "t = 'Six lambdas'\n",
    "print(t.isalnum())\n",
    "\n",
    "t = 'ΑβΓδ'\n",
    "print(t.isalnum())\n",
    "\n",
    "t = '20E1'\n",
    "print(t.isalnum())"
   ]
  },
  {
   "cell_type": "markdown",
   "id": "95448673",
   "metadata": {},
   "source": [
    "### isalpha() and isdigit() method"
   ]
  },
  {
   "cell_type": "code",
   "execution_count": 44,
   "id": "c45600da",
   "metadata": {},
   "outputs": [
    {
     "name": "stdout",
     "output_type": "stream",
     "text": [
      "True\n",
      "False\n",
      "True\n",
      "False\n"
     ]
    }
   ],
   "source": [
    "# Example 1: Demonstrating the isapha() method: for letters only\n",
    "print(\"Moooo\".isalpha())\n",
    "print('Mu40'.isalpha())\n",
    "\n",
    "# Example 2: Demonstrating the isdigit() method: for digits only\n",
    "print('2018'.isdigit())\n",
    "print(\"Year2019\".isdigit())\n"
   ]
  },
  {
   "cell_type": "markdown",
   "id": "41298bf2",
   "metadata": {},
   "source": [
    "### islower(), isspace(), isupper() method"
   ]
  },
  {
   "cell_type": "code",
   "execution_count": 47,
   "id": "3c6830ea",
   "metadata": {},
   "outputs": [
    {
     "name": "stdout",
     "output_type": "stream",
     "text": [
      "False\n",
      "True\n",
      "True\n",
      "True\n",
      "False\n",
      "False\n",
      "False\n",
      "True\n"
     ]
    }
   ],
   "source": [
    "# Example 1: Demonstrating the islower() method: for lower-case\n",
    "print(\"Moooo\".islower())\n",
    "print('moooo'.islower())\n",
    "\n",
    "# Example 2: Demonstrating the isspace() method: for space\n",
    "print(' \\n '.isspace())\n",
    "print(\" \".isspace())\n",
    "print(\"mooo mooo mooo\".isspace())\n",
    "\n",
    "# Example 3: Demonstrating the isupper() method: for upper-case\n",
    "print(\"Moooo\".isupper())\n",
    "print('moooo'.isupper())\n",
    "print('MOOOO'.isupper())\n"
   ]
  },
  {
   "cell_type": "markdown",
   "id": "3925ffe4",
   "metadata": {},
   "source": [
    "### join() method"
   ]
  },
  {
   "cell_type": "code",
   "execution_count": 48,
   "id": "fcf4e725",
   "metadata": {},
   "outputs": [
    {
     "name": "stdout",
     "output_type": "stream",
     "text": [
      "omicron,pi,rho\n"
     ]
    }
   ],
   "source": [
    "# Demonstrating the join() method:\n",
    "print(\",\".join([\"omicron\", \"pi\", \"rho\"]))\n"
   ]
  },
  {
   "cell_type": "markdown",
   "id": "587c6091",
   "metadata": {},
   "source": [
    "### lower() method"
   ]
  },
  {
   "cell_type": "code",
   "execution_count": 49,
   "id": "4345f58c",
   "metadata": {},
   "outputs": [
    {
     "name": "stdout",
     "output_type": "stream",
     "text": [
      "sigma=60\n"
     ]
    }
   ],
   "source": [
    "# Demonstrating the lower() method:\n",
    "print(\"SiGmA=60\".lower())"
   ]
  },
  {
   "cell_type": "markdown",
   "id": "e1d15aa3",
   "metadata": {},
   "source": [
    "### istrip() method"
   ]
  },
  {
   "cell_type": "code",
   "execution_count": 50,
   "id": "9c816e65",
   "metadata": {},
   "outputs": [
    {
     "name": "stdout",
     "output_type": "stream",
     "text": [
      "[tau ]\n"
     ]
    }
   ],
   "source": [
    "# Demonstrating the lstrip() method:\n",
    "print(\"[\" + \" tau \".lstrip() + \"]\")"
   ]
  },
  {
   "cell_type": "code",
   "execution_count": 51,
   "id": "eace7635",
   "metadata": {},
   "outputs": [
    {
     "name": "stdout",
     "output_type": "stream",
     "text": [
      "cisco.com\n"
     ]
    }
   ],
   "source": [
    "print(\"www.cisco.com\".lstrip(\"w.\"))"
   ]
  },
  {
   "cell_type": "code",
   "execution_count": 52,
   "id": "d40e9bb8",
   "metadata": {},
   "outputs": [
    {
     "name": "stdout",
     "output_type": "stream",
     "text": [
      "pythoninstitute.org\n"
     ]
    }
   ],
   "source": [
    "print(\"pythoninstitute.org\".lstrip(\".org\"))"
   ]
  },
  {
   "cell_type": "markdown",
   "id": "750846e0",
   "metadata": {},
   "source": [
    "### replace() method"
   ]
  },
  {
   "cell_type": "code",
   "execution_count": 53,
   "id": "d0b7d02b",
   "metadata": {},
   "outputs": [
    {
     "name": "stdout",
     "output_type": "stream",
     "text": [
      "www.pythoninstitute.org\n",
      "Thare are it!\n",
      "Apple \n"
     ]
    }
   ],
   "source": [
    "# Demonstrating the replace() method:\n",
    "print(\"www.netacad.com\".replace(\"netacad.com\", \"pythoninstitute.org\"))\n",
    "print(\"This is it!\".replace(\"is\", \"are\"))\n",
    "print(\"Apple juice\".replace(\"juice\", \"\"))\n"
   ]
  },
  {
   "cell_type": "code",
   "execution_count": 54,
   "id": "8dace111",
   "metadata": {},
   "outputs": [
    {
     "name": "stdout",
     "output_type": "stream",
     "text": [
      "Thare is it!\n",
      "Thare are it!\n"
     ]
    }
   ],
   "source": [
    "print(\"This is it!\".replace(\"is\", \"are\", 1))\n",
    "print(\"This is it!\".replace(\"is\", \"are\", 2))"
   ]
  },
  {
   "cell_type": "markdown",
   "id": "b07b5f09",
   "metadata": {},
   "source": [
    "### rfind() method"
   ]
  },
  {
   "cell_type": "code",
   "execution_count": 55,
   "id": "10f9f132",
   "metadata": {},
   "outputs": [
    {
     "name": "stdout",
     "output_type": "stream",
     "text": [
      "8\n",
      "-1\n",
      "4\n"
     ]
    }
   ],
   "source": [
    "# Demonstrating the rfind() method:\n",
    "print(\"tau tau tau\".rfind(\"ta\"))\n",
    "print(\"tau tau tau\".rfind(\"ta\", 9))\n",
    "print(\"tau tau tau\".rfind(\"ta\", 3, 9))\n"
   ]
  },
  {
   "cell_type": "markdown",
   "id": "3272b3b0",
   "metadata": {},
   "source": [
    "### rstrip() method"
   ]
  },
  {
   "cell_type": "code",
   "execution_count": 56,
   "id": "6735617a",
   "metadata": {},
   "outputs": [
    {
     "name": "stdout",
     "output_type": "stream",
     "text": [
      "[ upsilon]\n",
      "cis\n"
     ]
    }
   ],
   "source": [
    "# Demonstrating the rstrip() method:\n",
    "print(\"[\" + \" upsilon \".rstrip() + \"]\")\n",
    "print(\"cisco.com\".rstrip(\".com\"))\n"
   ]
  },
  {
   "cell_type": "markdown",
   "id": "69bfccb8",
   "metadata": {},
   "source": [
    "### split() method"
   ]
  },
  {
   "cell_type": "code",
   "execution_count": 57,
   "id": "4691c639",
   "metadata": {},
   "outputs": [
    {
     "name": "stdout",
     "output_type": "stream",
     "text": [
      "['phi', 'chi', 'psi']\n"
     ]
    }
   ],
   "source": [
    "# Demonstrating the split() method:\n",
    "print(\"phi       chi\\npsi\".split())\n"
   ]
  },
  {
   "cell_type": "markdown",
   "id": "8c621815",
   "metadata": {},
   "source": [
    "### startswith() and strip() method"
   ]
  },
  {
   "cell_type": "code",
   "execution_count": 58,
   "id": "803e0ad2",
   "metadata": {},
   "outputs": [
    {
     "name": "stdout",
     "output_type": "stream",
     "text": [
      "False\n",
      "True\n",
      "\n",
      "[aleph]\n"
     ]
    }
   ],
   "source": [
    "# Demonstrating the startswith() method:\n",
    "print(\"omega\".startswith(\"meg\"))\n",
    "print(\"omega\".startswith(\"om\"))\n",
    "\n",
    "print()\n",
    "\n",
    "# Demonstrating the strip() method:\n",
    "print(\"[\" + \"   aleph   \".strip() + \"]\")\n"
   ]
  },
  {
   "cell_type": "markdown",
   "id": "3902e45c",
   "metadata": {},
   "source": [
    "### swapcase(), title(), upper() method"
   ]
  },
  {
   "cell_type": "code",
   "execution_count": 59,
   "id": "17e46943",
   "metadata": {},
   "outputs": [
    {
     "name": "stdout",
     "output_type": "stream",
     "text": [
      "i KNOW THAT i KNOW NOTHING.\n",
      "\n",
      "I Know That I Know Nothing. Part 1.\n",
      "\n",
      "I KNOW THAT I KNOW NOTHING. PART 2.\n"
     ]
    }
   ],
   "source": [
    "# Demonstrating the swapcase() method:\n",
    "print(\"I know that I know nothing.\".swapcase())\n",
    "\n",
    "print()\n",
    "\n",
    "# Demonstrating the title() method:\n",
    "print(\"I know that I know nothing. Part 1.\".title())\n",
    "\n",
    "print()\n",
    "\n",
    "# Demonstrating the upper() method:\n",
    "print(\"I know that I know nothing. Part 2.\".upper())\n"
   ]
  },
  {
   "cell_type": "markdown",
   "id": "987c0fcb",
   "metadata": {},
   "source": [
    "# Comparison strings"
   ]
  },
  {
   "cell_type": "code",
   "execution_count": 61,
   "id": "853b2384",
   "metadata": {},
   "outputs": [
    {
     "data": {
      "text/plain": [
       "True"
      ]
     },
     "execution_count": 61,
     "metadata": {},
     "output_type": "execute_result"
    }
   ],
   "source": [
    "'alpha' == 'alpha'"
   ]
  },
  {
   "cell_type": "code",
   "execution_count": 62,
   "id": "f8be59c8",
   "metadata": {},
   "outputs": [
    {
     "data": {
      "text/plain": [
       "True"
      ]
     },
     "execution_count": 62,
     "metadata": {},
     "output_type": "execute_result"
    }
   ],
   "source": [
    "'alpha' != 'Alpha'"
   ]
  },
  {
   "cell_type": "code",
   "execution_count": 63,
   "id": "0b0e5c59",
   "metadata": {},
   "outputs": [
    {
     "data": {
      "text/plain": [
       "True"
      ]
     },
     "execution_count": 63,
     "metadata": {},
     "output_type": "execute_result"
    }
   ],
   "source": [
    "'alpha' < 'alphabet'"
   ]
  },
  {
   "cell_type": "code",
   "execution_count": 64,
   "id": "9182cc97",
   "metadata": {},
   "outputs": [
    {
     "data": {
      "text/plain": [
       "True"
      ]
     },
     "execution_count": 64,
     "metadata": {},
     "output_type": "execute_result"
    }
   ],
   "source": [
    "'beta' > 'Beta'"
   ]
  },
  {
   "cell_type": "markdown",
   "id": "f90120bc",
   "metadata": {},
   "source": [
    "### Sorting"
   ]
  },
  {
   "cell_type": "code",
   "execution_count": 66,
   "id": "94369aa6",
   "metadata": {},
   "outputs": [
    {
     "name": "stdout",
     "output_type": "stream",
     "text": [
      "['omega', 'alpha', 'pi', 'gamma']\n",
      "['alpha', 'gamma', 'omega', 'pi']\n",
      "\n",
      "['omega', 'alpha', 'pi', 'gamma']\n",
      "['alpha', 'gamma', 'omega', 'pi']\n"
     ]
    }
   ],
   "source": [
    "# Demonstrating the sorted() function:\n",
    "first_greek = ['omega', 'alpha', 'pi', 'gamma']\n",
    "first_greek_2 = sorted(first_greek)\n",
    "\n",
    "print(first_greek)\n",
    "print(first_greek_2)\n",
    "\n",
    "print()\n",
    "\n",
    "# Demonstrating the sort() method:\n",
    "second_greek = ['omega', 'alpha', 'pi', 'gamma']\n",
    "print(second_greek)\n",
    "\n",
    "second_greek.sort()\n",
    "print(second_greek)\n"
   ]
  },
  {
   "cell_type": "markdown",
   "id": "0116db7b",
   "metadata": {},
   "source": [
    "### String vs number"
   ]
  },
  {
   "cell_type": "code",
   "execution_count": 67,
   "id": "3f5e96d7",
   "metadata": {},
   "outputs": [
    {
     "name": "stdout",
     "output_type": "stream",
     "text": [
      "13 1.3\n"
     ]
    }
   ],
   "source": [
    "itg = 13\n",
    "flt = 1.3\n",
    "si = str(itg)\n",
    "sf = str(flt)\n",
    "\n",
    "print(si + ' ' + sf)\n"
   ]
  },
  {
   "cell_type": "code",
   "execution_count": 69,
   "id": "1624326a",
   "metadata": {},
   "outputs": [
    {
     "name": "stdout",
     "output_type": "stream",
     "text": [
      "14.3\n"
     ]
    }
   ],
   "source": [
    "si = '13'\n",
    "sf = '1.3'\n",
    "itg = int(si)\n",
    "flt = float(sf)\n",
    "\n",
    "print(itg + flt)\n"
   ]
  },
  {
   "cell_type": "markdown",
   "id": "1262216d",
   "metadata": {},
   "source": [
    "# Program implementation"
   ]
  },
  {
   "cell_type": "code",
   "execution_count": 1,
   "id": "202aada6",
   "metadata": {},
   "outputs": [
    {
     "name": "stdout",
     "output_type": "stream",
     "text": [
      "Enter your message: Sher Locked\n",
      "TIFSMPDLFE\n"
     ]
    }
   ],
   "source": [
    "# Caesar cipher.\n",
    "text = input(\"Enter your message: \")\n",
    "cipher = ''\n",
    "for char in text:\n",
    "    if not char.isalpha():\n",
    "        continue\n",
    "    char = char.upper()\n",
    "    code = ord(char) + 1\n",
    "    if code > ord('Z'):\n",
    "        code = ord('A')\n",
    "    cipher += chr(code)\n",
    "\n",
    "print(cipher)\n"
   ]
  },
  {
   "cell_type": "code",
   "execution_count": 2,
   "id": "132ad768",
   "metadata": {},
   "outputs": [
    {
     "name": "stdout",
     "output_type": "stream",
     "text": [
      "Enter your cryptogram: TIFSMPDLFE\n",
      "SHERLOCKED\n"
     ]
    }
   ],
   "source": [
    "# Caesar cipher - decrypting a message.\n",
    "cipher = input('Enter your cryptogram: ')\n",
    "text = ''\n",
    "for char in cipher:\n",
    "    if not char.isalpha():\n",
    "        continue\n",
    "    char = char.upper()\n",
    "    code = ord(char) - 1\n",
    "    if code < ord('A'):\n",
    "        code = ord('Z')\n",
    "    text += chr(code)\n",
    "\n",
    "print(text)"
   ]
  },
  {
   "cell_type": "code",
   "execution_count": 3,
   "id": "f960da4a",
   "metadata": {},
   "outputs": [
    {
     "name": "stdout",
     "output_type": "stream",
     "text": [
      "Enter a line of numbers - separate them with spaces: 12 34 3 1 32\n",
      "The total is: 82.0\n"
     ]
    }
   ],
   "source": [
    "# Numbers Processor.\n",
    "\n",
    "line = input(\"Enter a line of numbers - separate them with spaces: \")\n",
    "strings = line.split()\n",
    "total = 0\n",
    "try:\n",
    "    for substr in strings:\n",
    "        total += float(substr)\n",
    "    print(\"The total is:\", total)\n",
    "except:\n",
    "    print(substr, \"is not a number.\")\n"
   ]
  },
  {
   "cell_type": "code",
   "execution_count": 8,
   "id": "0c29d212",
   "metadata": {},
   "outputs": [
    {
     "name": "stdout",
     "output_type": "stream",
     "text": [
      "Enter IBAN, please: DE02100100100152517108\n",
      "IBAN entered is valid.\n"
     ]
    }
   ],
   "source": [
    "# IBAN Validator.\n",
    "\n",
    "iban = input(\"Enter IBAN, please: \")\n",
    "iban = iban.replace(' ','')\n",
    "\n",
    "if not iban.isalnum():\n",
    "    print(\"You have entered invalid characters.\")\n",
    "elif len(iban) < 15:\n",
    "    print(\"IBAN entered is too short.\")\n",
    "elif len(iban) > 31:\n",
    "    print(\"IBAN entered is too long.\")\n",
    "else:\n",
    "    iban = (iban[4:] + iban[0:4]).upper()\n",
    "    iban2 = ''\n",
    "    for ch in iban:\n",
    "        if ch.isdigit():\n",
    "            iban2 += ch\n",
    "        else:\n",
    "            iban2 += str(10 + ord(ch) - ord('A'))\n",
    "    iban = int(iban2)\n",
    "    if iban % 97 == 1:\n",
    "        print(\"IBAN entered is valid.\")\n",
    "    else:\n",
    "        print(\"IBAN entered is invalid.\")\n"
   ]
  },
  {
   "cell_type": "markdown",
   "id": "7636166f",
   "metadata": {},
   "source": [
    "# Errors"
   ]
  },
  {
   "cell_type": "code",
   "execution_count": 11,
   "id": "cf2ae10b",
   "metadata": {},
   "outputs": [
    {
     "name": "stdout",
     "output_type": "stream",
     "text": [
      "Enter x: 123s\n"
     ]
    },
    {
     "ename": "ValueError",
     "evalue": "could not convert string to float: '123s'",
     "output_type": "error",
     "traceback": [
      "\u001b[0;31m---------------------------------------------------------------------------\u001b[0m",
      "\u001b[0;31mValueError\u001b[0m                                Traceback (most recent call last)",
      "Input \u001b[0;32mIn [11]\u001b[0m, in \u001b[0;36m<cell line: 3>\u001b[0;34m()\u001b[0m\n\u001b[1;32m      1\u001b[0m \u001b[38;5;28;01mimport\u001b[39;00m \u001b[38;5;21;01mmath\u001b[39;00m\n\u001b[0;32m----> 3\u001b[0m x \u001b[38;5;241m=\u001b[39m \u001b[38;5;28mfloat\u001b[39m(\u001b[38;5;28minput\u001b[39m(\u001b[38;5;124m\"\u001b[39m\u001b[38;5;124mEnter x: \u001b[39m\u001b[38;5;124m\"\u001b[39m))\n\u001b[1;32m      4\u001b[0m y \u001b[38;5;241m=\u001b[39m math\u001b[38;5;241m.\u001b[39msqrt(x)\n\u001b[1;32m      6\u001b[0m \u001b[38;5;28mprint\u001b[39m(\u001b[38;5;124m\"\u001b[39m\u001b[38;5;124mThe square root of\u001b[39m\u001b[38;5;124m\"\u001b[39m, x, \u001b[38;5;124m\"\u001b[39m\u001b[38;5;124mequals to\u001b[39m\u001b[38;5;124m\"\u001b[39m, y)\n",
      "\u001b[0;31mValueError\u001b[0m: could not convert string to float: '123s'"
     ]
    }
   ],
   "source": [
    "import math\n",
    "\n",
    "x = float(input(\"Enter x: \"))\n",
    "y = math.sqrt(x)\n",
    "\n",
    "print(\"The square root of\", x, \"equals to\", y)\n"
   ]
  },
  {
   "cell_type": "code",
   "execution_count": 12,
   "id": "12d88972",
   "metadata": {},
   "outputs": [
    {
     "ename": "ZeroDivisionError",
     "evalue": "division by zero",
     "output_type": "error",
     "traceback": [
      "\u001b[0;31m---------------------------------------------------------------------------\u001b[0m",
      "\u001b[0;31mZeroDivisionError\u001b[0m                         Traceback (most recent call last)",
      "Input \u001b[0;32mIn [12]\u001b[0m, in \u001b[0;36m<cell line: 2>\u001b[0;34m()\u001b[0m\n\u001b[1;32m      1\u001b[0m value \u001b[38;5;241m=\u001b[39m \u001b[38;5;241m1\u001b[39m\n\u001b[0;32m----> 2\u001b[0m value \u001b[38;5;241m/\u001b[39m\u001b[38;5;241m=\u001b[39m \u001b[38;5;241m0\u001b[39m\n",
      "\u001b[0;31mZeroDivisionError\u001b[0m: division by zero"
     ]
    }
   ],
   "source": [
    "value = 1\n",
    "value /= 0"
   ]
  },
  {
   "cell_type": "code",
   "execution_count": 13,
   "id": "04b2f53f",
   "metadata": {},
   "outputs": [
    {
     "ename": "IndexError",
     "evalue": "list index out of range",
     "output_type": "error",
     "traceback": [
      "\u001b[0;31m---------------------------------------------------------------------------\u001b[0m",
      "\u001b[0;31mIndexError\u001b[0m                                Traceback (most recent call last)",
      "Input \u001b[0;32mIn [13]\u001b[0m, in \u001b[0;36m<cell line: 2>\u001b[0;34m()\u001b[0m\n\u001b[1;32m      1\u001b[0m my_list \u001b[38;5;241m=\u001b[39m []\n\u001b[0;32m----> 2\u001b[0m x \u001b[38;5;241m=\u001b[39m my_list[\u001b[38;5;241m0\u001b[39m]\n",
      "\u001b[0;31mIndexError\u001b[0m: list index out of range"
     ]
    }
   ],
   "source": [
    "my_list = []\n",
    "x = my_list[0]\n"
   ]
  },
  {
   "cell_type": "code",
   "execution_count": 19,
   "id": "6899f3b8",
   "metadata": {},
   "outputs": [
    {
     "name": "stdout",
     "output_type": "stream",
     "text": [
      "Enter the first number: 123\n",
      "Enter the second number: 0\n",
      "This operation cannot be done.\n",
      "THE END.\n"
     ]
    }
   ],
   "source": [
    "first_number = int(input(\"Enter the first number: \"))\n",
    "second_number = int(input(\"Enter the second number: \"))\n",
    "\n",
    "if second_number != 0:\n",
    "    print(first_number / second_number)\n",
    "else:\n",
    "    print(\"This operation cannot be done.\")\n",
    "\n",
    "print(\"THE END.\")\n"
   ]
  },
  {
   "cell_type": "code",
   "execution_count": 18,
   "id": "eb2ce5b8",
   "metadata": {},
   "outputs": [
    {
     "name": "stdout",
     "output_type": "stream",
     "text": [
      "Enter the first number: 1312\n",
      "Enter the second number: 0\n",
      "This operation cannot be done.\n",
      "THE END.\n"
     ]
    }
   ],
   "source": [
    "first_number = int(input(\"Enter the first number: \"))\n",
    "second_number = int(input(\"Enter the second number: \"))\n",
    "\n",
    "try:\n",
    "    print(first_number / second_number)\n",
    "except:\n",
    "    print(\"This operation cannot be done.\")\n",
    "\n",
    "print(\"THE END.\")"
   ]
  },
  {
   "cell_type": "code",
   "execution_count": 20,
   "id": "ad53f6a1",
   "metadata": {},
   "outputs": [
    {
     "name": "stdout",
     "output_type": "stream",
     "text": [
      "1\n",
      "Oh dear, something went wrong...\n",
      "3\n"
     ]
    }
   ],
   "source": [
    "try:\n",
    "    print(\"1\")\n",
    "    x = 1 / 0\n",
    "    print(\"2\")\n",
    "except:\n",
    "    print(\"Oh dear, something went wrong...\")\n",
    "\n",
    "print(\"3\")"
   ]
  },
  {
   "cell_type": "code",
   "execution_count": 21,
   "id": "e513be01",
   "metadata": {},
   "outputs": [
    {
     "name": "stdout",
     "output_type": "stream",
     "text": [
      "Enter a number: 0\n",
      "Oh dear, something went wrong...\n",
      "THE END.\n"
     ]
    }
   ],
   "source": [
    "try:\n",
    "    x = int(input(\"Enter a number: \"))\n",
    "    y = 1 / x\n",
    "except:\n",
    "    print(\"Oh dear, something went wrong...\")\n",
    "\n",
    "print(\"THE END.\")\n"
   ]
  },
  {
   "cell_type": "code",
   "execution_count": 23,
   "id": "7b499ebc",
   "metadata": {},
   "outputs": [
    {
     "name": "stdout",
     "output_type": "stream",
     "text": [
      "Enter a number: a\n",
      "You must enter an integer value.\n",
      "THE END.\n"
     ]
    }
   ],
   "source": [
    "try:\n",
    "    x = int(input(\"Enter a number: \"))\n",
    "    y = 1 / x\n",
    "    print(y)\n",
    "except ZeroDivisionError:\n",
    "    print(\"You cannot divide by zero, sorry.\")\n",
    "except ValueError:\n",
    "    print(\"You must enter an integer value.\")\n",
    "except:\n",
    "    print(\"Oh dear, something went wrong...\")\n",
    "\n",
    "print(\"THE END.\")\n"
   ]
  },
  {
   "cell_type": "code",
   "execution_count": 25,
   "id": "39aa2ba7",
   "metadata": {},
   "outputs": [
    {
     "name": "stdout",
     "output_type": "stream",
     "text": [
      "Enter a number: 0.1\n",
      "You must enter an integer value.\n",
      "THE END.\n"
     ]
    }
   ],
   "source": [
    "try:\n",
    "    x = int(input(\"Enter a number: \"))\n",
    "    y = 1 / x\n",
    "    print(y)\n",
    "except ValueError:\n",
    "    print(\"You must enter an integer value.\")\n",
    "except:\n",
    "    print(\"Oh dear, something went wrong...\")\n",
    "\n",
    "print(\"THE END.\")\n"
   ]
  },
  {
   "cell_type": "code",
   "execution_count": 26,
   "id": "4c153ce2",
   "metadata": {
    "scrolled": true
   },
   "outputs": [
    {
     "name": "stdout",
     "output_type": "stream",
     "text": [
      "Enter a number: 1.1\n",
      "You must enter an integer value.\n",
      "THE END.\n"
     ]
    }
   ],
   "source": [
    "try:\n",
    "    x = int(input(\"Enter a number: \"))\n",
    "    y = 1 / x\n",
    "    print(y)\n",
    "except ValueError:\n",
    "    print(\"You must enter an integer value.\")\n",
    "\n",
    "print(\"THE END.\")\n"
   ]
  },
  {
   "cell_type": "markdown",
   "id": "6160dbfe",
   "metadata": {},
   "source": [
    "### More"
   ]
  },
  {
   "cell_type": "code",
   "execution_count": 27,
   "id": "1555d166",
   "metadata": {},
   "outputs": [
    {
     "name": "stdout",
     "output_type": "stream",
     "text": [
      "Oooppsss...\n",
      "THE END.\n"
     ]
    }
   ],
   "source": [
    "try:\n",
    "    y = 1 / 0\n",
    "except ZeroDivisionError:\n",
    "    print(\"Oooppsss...\")\n",
    "\n",
    "print(\"THE END.\")\n"
   ]
  },
  {
   "cell_type": "code",
   "execution_count": 29,
   "id": "b6352e27",
   "metadata": {},
   "outputs": [
    {
     "name": "stdout",
     "output_type": "stream",
     "text": [
      "Oooppsss...\n",
      "THE END.\n"
     ]
    }
   ],
   "source": [
    "try:\n",
    "    y = 1 / 0\n",
    "except ArithmeticError:\n",
    "    print(\"Oooppsss...\")\n",
    "\n",
    "print(\"THE END.\")\n",
    "\n"
   ]
  },
  {
   "cell_type": "code",
   "execution_count": 30,
   "id": "5c3a2e2e",
   "metadata": {},
   "outputs": [
    {
     "name": "stdout",
     "output_type": "stream",
     "text": [
      "Zero Division!\n",
      "THE END.\n"
     ]
    }
   ],
   "source": [
    "try:\n",
    "    y = 1 / 0\n",
    "except ZeroDivisionError:\n",
    "    print(\"Zero Division!\")\n",
    "except ArithmeticError:\n",
    "    print(\"Arithmetic problem!\")\n",
    "\n",
    "print(\"THE END.\")\n"
   ]
  },
  {
   "cell_type": "code",
   "execution_count": 31,
   "id": "3eb39cb8",
   "metadata": {},
   "outputs": [
    {
     "name": "stdout",
     "output_type": "stream",
     "text": [
      "Arithmetic problem!\n",
      "THE END.\n"
     ]
    }
   ],
   "source": [
    "try:\n",
    "    y = 1 / 0\n",
    "except ArithmeticError:\n",
    "    print(\"Arithmetic problem!\")\n",
    "except ZeroDivisionError:\n",
    "    print(\"Zero Division!\")\n",
    "\n",
    "print(\"THE END.\")\n",
    "\n"
   ]
  },
  {
   "cell_type": "code",
   "execution_count": 32,
   "id": "6376b93b",
   "metadata": {},
   "outputs": [
    {
     "name": "stdout",
     "output_type": "stream",
     "text": [
      "Arithmetic Problem!\n",
      "THE END.\n"
     ]
    }
   ],
   "source": [
    "def bad_fun(n):\n",
    "    try:\n",
    "        return 1 / n\n",
    "    except ArithmeticError:\n",
    "        print(\"Arithmetic Problem!\")\n",
    "    return None\n",
    "\n",
    "bad_fun(0)\n",
    "\n",
    "print(\"THE END.\")\n"
   ]
  },
  {
   "cell_type": "code",
   "execution_count": 33,
   "id": "a647935b",
   "metadata": {},
   "outputs": [
    {
     "name": "stdout",
     "output_type": "stream",
     "text": [
      "What happened? An exception was raised!\n",
      "THE END.\n"
     ]
    }
   ],
   "source": [
    "def bad_fun(n):\n",
    "    return 1 / n\n",
    "\n",
    "try:\n",
    "    bad_fun(0)\n",
    "except ArithmeticError:\n",
    "    print(\"What happened? An exception was raised!\")\n",
    "\n",
    "print(\"THE END.\")\n",
    "\n"
   ]
  },
  {
   "cell_type": "markdown",
   "id": "75fdde8a",
   "metadata": {},
   "source": [
    "### raise"
   ]
  },
  {
   "cell_type": "code",
   "execution_count": 34,
   "id": "0712f95c",
   "metadata": {},
   "outputs": [
    {
     "name": "stdout",
     "output_type": "stream",
     "text": [
      "What happened? An error?\n",
      "THE END.\n"
     ]
    }
   ],
   "source": [
    "def bad_fun(n):\n",
    "    raise ZeroDivisionError\n",
    "\n",
    "\n",
    "try:\n",
    "    bad_fun(0)\n",
    "except ArithmeticError:\n",
    "    print(\"What happened? An error?\")\n",
    "\n",
    "print(\"THE END.\")\n"
   ]
  },
  {
   "cell_type": "code",
   "execution_count": 35,
   "id": "64790434",
   "metadata": {},
   "outputs": [
    {
     "name": "stdout",
     "output_type": "stream",
     "text": [
      "I did it again!\n",
      "I see!\n",
      "THE END.\n"
     ]
    }
   ],
   "source": [
    "def bad_fun(n):\n",
    "    try:\n",
    "        return n / 0\n",
    "    except:\n",
    "        print(\"I did it again!\")\n",
    "        raise\n",
    "\n",
    "\n",
    "try:\n",
    "    bad_fun(0)\n",
    "except ArithmeticError:\n",
    "    print(\"I see!\")\n",
    "\n",
    "print(\"THE END.\")\n"
   ]
  },
  {
   "cell_type": "markdown",
   "id": "5ada8671",
   "metadata": {},
   "source": [
    "### assert"
   ]
  },
  {
   "cell_type": "code",
   "execution_count": 41,
   "id": "697d16bc",
   "metadata": {},
   "outputs": [
    {
     "name": "stdout",
     "output_type": "stream",
     "text": [
      "Enter a number: -123\n"
     ]
    },
    {
     "ename": "AssertionError",
     "evalue": "",
     "output_type": "error",
     "traceback": [
      "\u001b[0;31m---------------------------------------------------------------------------\u001b[0m",
      "\u001b[0;31mAssertionError\u001b[0m                            Traceback (most recent call last)",
      "Input \u001b[0;32mIn [41]\u001b[0m, in \u001b[0;36m<cell line: 4>\u001b[0;34m()\u001b[0m\n\u001b[1;32m      1\u001b[0m \u001b[38;5;28;01mimport\u001b[39;00m \u001b[38;5;21;01mmath\u001b[39;00m\n\u001b[1;32m      3\u001b[0m x \u001b[38;5;241m=\u001b[39m \u001b[38;5;28mfloat\u001b[39m(\u001b[38;5;28minput\u001b[39m(\u001b[38;5;124m\"\u001b[39m\u001b[38;5;124mEnter a number: \u001b[39m\u001b[38;5;124m\"\u001b[39m))\n\u001b[0;32m----> 4\u001b[0m \u001b[38;5;28;01massert\u001b[39;00m x \u001b[38;5;241m>\u001b[39m\u001b[38;5;241m=\u001b[39m \u001b[38;5;241m0.0\u001b[39m\n\u001b[1;32m      6\u001b[0m x \u001b[38;5;241m=\u001b[39m math\u001b[38;5;241m.\u001b[39msqrt(x)\n\u001b[1;32m      8\u001b[0m \u001b[38;5;28mprint\u001b[39m(x)\n",
      "\u001b[0;31mAssertionError\u001b[0m: "
     ]
    }
   ],
   "source": [
    "import math\n",
    "\n",
    "x = float(input(\"Enter a number: \"))\n",
    "assert x >= 0.0\n",
    "\n",
    "x = math.sqrt(x)\n",
    "\n",
    "print(x)\n"
   ]
  },
  {
   "cell_type": "code",
   "execution_count": 49,
   "id": "3ba1bc01",
   "metadata": {},
   "outputs": [
    {
     "name": "stdout",
     "output_type": "stream",
     "text": [
      "1\n",
      "2\n",
      "3\n",
      "4\n",
      "5\n",
      "Done\n"
     ]
    }
   ],
   "source": [
    "\n",
    "    ArithmeticError,\n",
    "    BaseException,\n",
    "    LookupError.\n",
    "\n",
    "    AssertionError,\n",
    "    ImportError,\n",
    "    IndexError,\n",
    "    KeyboardInterrupt,\n",
    "    KeyError,\n",
    "    MemoryError,\n",
    "    OverflowError.\n"
   ]
  },
  {
   "cell_type": "code",
   "execution_count": 53,
   "id": "f3679b7a",
   "metadata": {},
   "outputs": [
    {
     "name": "stdout",
     "output_type": "stream",
     "text": [
      "False\n"
     ]
    }
   ],
   "source": [
    "print('Mike'>\"Mikey\")"
   ]
  },
  {
   "cell_type": "code",
   "execution_count": 57,
   "id": "515d2640",
   "metadata": {},
   "outputs": [
    {
     "name": "stdout",
     "output_type": "stream",
     "text": [
      "x\n"
     ]
    }
   ],
   "source": [
    "print(chr(ord('z')-2))"
   ]
  },
  {
   "cell_type": "code",
   "execution_count": 4,
   "id": "1f320f9a",
   "metadata": {},
   "outputs": [
    {
     "name": "stdout",
     "output_type": "stream",
     "text": [
      "2\n"
     ]
    }
   ],
   "source": [
    "x = '\\\\\\\\'\n",
    "print(len(x))"
   ]
  },
  {
   "cell_type": "code",
   "execution_count": 3,
   "id": "c15f012f",
   "metadata": {},
   "outputs": [
    {
     "name": "stdout",
     "output_type": "stream",
     "text": [
      "1.3\n"
     ]
    }
   ],
   "source": [
    "print(float(\"1.3\"))"
   ]
  },
  {
   "cell_type": "code",
   "execution_count": null,
   "id": "e5eafb56",
   "metadata": {},
   "outputs": [],
   "source": []
  }
 ],
 "metadata": {
  "kernelspec": {
   "display_name": "Python 3",
   "language": "python",
   "name": "python3"
  },
  "language_info": {
   "codemirror_mode": {
    "name": "ipython",
    "version": 3
   },
   "file_extension": ".py",
   "mimetype": "text/x-python",
   "name": "python",
   "nbconvert_exporter": "python",
   "pygments_lexer": "ipython3",
   "version": "3.9.5"
  }
 },
 "nbformat": 4,
 "nbformat_minor": 5
}
