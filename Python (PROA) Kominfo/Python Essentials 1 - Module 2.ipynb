{
 "cells": [
  {
   "cell_type": "markdown",
   "id": "fa45e6a9",
   "metadata": {},
   "source": [
    "# Data types, variables, basic input-output operations, basic operators\n",
    "\n",
    "---"
   ]
  },
  {
   "cell_type": "markdown",
   "id": "cde76c9f",
   "metadata": {},
   "source": [
    "# String"
   ]
  },
  {
   "cell_type": "markdown",
   "id": "371c14cc",
   "metadata": {},
   "source": [
    "## Hello World!"
   ]
  },
  {
   "cell_type": "code",
   "execution_count": 2,
   "id": "47deff57",
   "metadata": {},
   "outputs": [
    {
     "name": "stdout",
     "output_type": "stream",
     "text": [
      "Hello World!\n"
     ]
    }
   ],
   "source": [
    "print(\"Hello World!\")"
   ]
  },
  {
   "cell_type": "code",
   "execution_count": 3,
   "id": "3c904650",
   "metadata": {
    "scrolled": true
   },
   "outputs": [
    {
     "ename": "NameError",
     "evalue": "name 'prin' is not defined",
     "output_type": "error",
     "traceback": [
      "\u001b[0;31m---------------------------------------------------------------------------\u001b[0m",
      "\u001b[0;31mNameError\u001b[0m                                 Traceback (most recent call last)",
      "Input \u001b[0;32mIn [3]\u001b[0m, in \u001b[0;36m<cell line: 2>\u001b[0;34m()\u001b[0m\n\u001b[1;32m      1\u001b[0m \u001b[38;5;66;03m#debug\u001b[39;00m\n\u001b[0;32m----> 2\u001b[0m prin(\u001b[38;5;124m\"\u001b[39m\u001b[38;5;124mHello World!\u001b[39m\u001b[38;5;124m\"\u001b[39m)\n",
      "\u001b[0;31mNameError\u001b[0m: name 'prin' is not defined"
     ]
    }
   ],
   "source": [
    "#debug\n",
    "prin(\"Hello World!\")"
   ]
  },
  {
   "cell_type": "markdown",
   "id": "f3bc5b5d",
   "metadata": {},
   "source": [
    "## Print() Function"
   ]
  },
  {
   "cell_type": "code",
   "execution_count": 5,
   "id": "7bb03e4a",
   "metadata": {
    "scrolled": true
   },
   "outputs": [
    {
     "name": "stdout",
     "output_type": "stream",
     "text": [
      "The itsy bitsy spider climbed up the waterspout.\n",
      "Down came the rain and washed the spider out.\n"
     ]
    }
   ],
   "source": [
    "print(\"The itsy bitsy spider climbed up the waterspout.\")\n",
    "print(\"Down came the rain and washed the spider out.\")"
   ]
  },
  {
   "cell_type": "markdown",
   "id": "71384994",
   "metadata": {},
   "source": [
    "### Space between two lines"
   ]
  },
  {
   "cell_type": "code",
   "execution_count": 6,
   "id": "56815016",
   "metadata": {},
   "outputs": [
    {
     "name": "stdout",
     "output_type": "stream",
     "text": [
      "The itsy bitsy spider climbed up the waterspout.\n",
      "\n",
      "Down came the rain and washed the spider out.\n"
     ]
    }
   ],
   "source": [
    "print(\"The itsy bitsy spider climbed up the waterspout.\")\n",
    "print()\n",
    "print(\"Down came the rain and washed the spider out.\")"
   ]
  },
  {
   "cell_type": "markdown",
   "id": "dc87dded",
   "metadata": {},
   "source": [
    "### New lines"
   ]
  },
  {
   "cell_type": "code",
   "execution_count": 7,
   "id": "e3aa69c7",
   "metadata": {},
   "outputs": [
    {
     "name": "stdout",
     "output_type": "stream",
     "text": [
      "The itsy bitsy spider\n",
      "climbed up the waterspout.\n",
      "\n",
      "Down came the rain\n",
      "and washed the spider out.\n"
     ]
    }
   ],
   "source": [
    "print(\"The itsy bitsy spider\\nclimbed up the waterspout.\")\n",
    "print()\n",
    "print(\"Down came the rain\\nand washed the spider out.\")"
   ]
  },
  {
   "cell_type": "markdown",
   "id": "ac9c5edb",
   "metadata": {},
   "source": [
    "### Multiple Arguments"
   ]
  },
  {
   "cell_type": "code",
   "execution_count": 8,
   "id": "6551eb80",
   "metadata": {},
   "outputs": [
    {
     "name": "stdout",
     "output_type": "stream",
     "text": [
      "The itsy bitsy spider climbed up the waterspout.\n"
     ]
    }
   ],
   "source": [
    "print(\"The itsy bitsy spider\" , \"climbed up\" , \"the waterspout.\")"
   ]
  },
  {
   "cell_type": "markdown",
   "id": "270f5bf0",
   "metadata": {},
   "source": [
    "### Positional Argument and Key Argument"
   ]
  },
  {
   "cell_type": "code",
   "execution_count": 9,
   "id": "031baf92",
   "metadata": {},
   "outputs": [
    {
     "name": "stdout",
     "output_type": "stream",
     "text": [
      "My name is Python.\n",
      "Monty Python.\n"
     ]
    }
   ],
   "source": [
    "print(\"My name is\", \"Python.\")\n",
    "print(\"Monty Python.\")"
   ]
  },
  {
   "cell_type": "code",
   "execution_count": 13,
   "id": "ef6a366d",
   "metadata": {},
   "outputs": [
    {
     "name": "stdout",
     "output_type": "stream",
     "text": [
      "My name is Python. Monty Python.\n",
      "\n",
      "My name is Python.\n",
      "Monty Python.\n"
     ]
    }
   ],
   "source": [
    "print(\"My name is\", \"Python.\", end=\" \")\n",
    "print(\"Monty Python.\")\n",
    "print()\n",
    "print(\"My name is\", \"Python.\", end=\"\\n\")\n",
    "print(\"Monty Python.\")"
   ]
  },
  {
   "cell_type": "markdown",
   "id": "3278dce4",
   "metadata": {},
   "source": [
    "### Keyword Argument - Separator"
   ]
  },
  {
   "cell_type": "code",
   "execution_count": 14,
   "id": "71919381",
   "metadata": {},
   "outputs": [
    {
     "name": "stdout",
     "output_type": "stream",
     "text": [
      "My-name-is-Monty-Python.\n"
     ]
    }
   ],
   "source": [
    "print(\"My\", \"name\", \"is\", \"Monty\", \"Python.\", sep=\"-\")"
   ]
  },
  {
   "cell_type": "markdown",
   "id": "177f3d15",
   "metadata": {},
   "source": [
    "### Keyword Argument - Mixed"
   ]
  },
  {
   "cell_type": "code",
   "execution_count": 18,
   "id": "65d1cf96",
   "metadata": {},
   "outputs": [
    {
     "name": "stdout",
     "output_type": "stream",
     "text": [
      "My_name_is**Monty*Python.*\n"
     ]
    }
   ],
   "source": [
    "print(\"My\", \"name\", \"is\", sep=\"_\", end=\"**\")\n",
    "print(\"Monty\", \"Python.\", sep=\"*\", end=\"*\\n\")"
   ]
  },
  {
   "cell_type": "markdown",
   "id": "ecf56b60",
   "metadata": {},
   "source": [
    "### Task 2"
   ]
  },
  {
   "cell_type": "code",
   "execution_count": 23,
   "id": "7cf384fa",
   "metadata": {},
   "outputs": [],
   "source": [
    "#expected output: Programming***Essentials***in...Python \n",
    "#starting code: \n",
    "#print(\"Programming\",\"Essentials\",\"in\") \n",
    "#print(\"Python\")"
   ]
  },
  {
   "cell_type": "code",
   "execution_count": 24,
   "id": "e79016c4",
   "metadata": {},
   "outputs": [
    {
     "name": "stdout",
     "output_type": "stream",
     "text": [
      "Programming***Essentials***in...Python\n"
     ]
    }
   ],
   "source": [
    "print(\"Programming\",\"Essentials\",\"in\", sep=\"***\", end=\"...\")\n",
    "print(\"Python\")"
   ]
  },
  {
   "cell_type": "markdown",
   "id": "4ee7b259",
   "metadata": {},
   "source": [
    "### Task 3"
   ]
  },
  {
   "cell_type": "code",
   "execution_count": 26,
   "id": "57cf5db7",
   "metadata": {},
   "outputs": [
    {
     "name": "stdout",
     "output_type": "stream",
     "text": [
      "    *\n",
      "   * *\n",
      "  *   *\n",
      " *     *\n",
      "***   ***\n",
      "  *   *\n",
      "  *   *\n",
      "  *****\n"
     ]
    }
   ],
   "source": [
    "#starting code:\n",
    "print(\"    *\")\n",
    "print(\"   * *\")\n",
    "print(\"  *   *\")\n",
    "print(\" *     *\")\n",
    "print(\"***   ***\")\n",
    "print(\"  *   *\")\n",
    "print(\"  *   *\")\n",
    "print(\"  *****\")\n",
    "\n",
    "#to do: \n",
    "#1. reduce the code line to one\n",
    "#2. make it twice as large\n",
    "#3. duplicate the arrow"
   ]
  },
  {
   "cell_type": "code",
   "execution_count": 27,
   "id": "89ffefdd",
   "metadata": {},
   "outputs": [
    {
     "name": "stdout",
     "output_type": "stream",
     "text": [
      "    *\n",
      "   * *\n",
      "  *   *\n",
      " *     *\n",
      "***   ***\n",
      "  *   *\n",
      "  *   *\n",
      "  *****\n"
     ]
    }
   ],
   "source": [
    "print(\"    *\\n   * *\\n  *   *\\n *     *\\n***   ***\\n  *   *\\n  *   *\\n  *****\")"
   ]
  },
  {
   "cell_type": "code",
   "execution_count": 33,
   "id": "e78cb431",
   "metadata": {},
   "outputs": [
    {
     "name": "stdout",
     "output_type": "stream",
     "text": [
      "        *\n",
      "       * *\n",
      "      *   *\n",
      "     *     *\n",
      "    *       *\n",
      "   *         *\n",
      "  *           *\n",
      " *             *\n",
      "*****       *****\n",
      "    *       *\n",
      "    *       *\n",
      "    *       *\n",
      "    *       *\n",
      "    *       *\n",
      "    *       *\n",
      "    *********\n"
     ]
    }
   ],
   "source": [
    "print(\"        *\")\n",
    "print(\"       * *\")\n",
    "print(\"      *   *\")\n",
    "print(\"     *     *\")\n",
    "print(\"    *       *\")\n",
    "print(\"   *         *\")\n",
    "print(\"  *           *\")\n",
    "print(\" *             *\")\n",
    "print(\"*****       *****\")\n",
    "print(\"    *       *\")\n",
    "print(\"    *       *\")\n",
    "print(\"    *       *\")\n",
    "print(\"    *       *\")\n",
    "print(\"    *       *\")\n",
    "print(\"    *       *\")\n",
    "print(\"    *********\")"
   ]
  },
  {
   "cell_type": "code",
   "execution_count": 35,
   "id": "c673cc09",
   "metadata": {},
   "outputs": [
    {
     "name": "stdout",
     "output_type": "stream",
     "text": [
      "    *         *     \n",
      "   * *       * *    \n",
      "  *   *     *   *   \n",
      " *     *   *     *  \n",
      "***   *** ***   *** \n",
      "  *   *     *   *   \n",
      "  *   *     *   *   \n",
      "  *****     *****   \n"
     ]
    }
   ],
   "source": [
    "print(\"    *     \"*2)\n",
    "print(\"   * *    \"*2)\n",
    "print(\"  *   *   \"*2)\n",
    "print(\" *     *  \"*2)\n",
    "print(\"***   *** \"*2)\n",
    "print(\"  *   *   \"*2)\n",
    "print(\"  *   *   \"*2)\n",
    "print(\"  *****   \"*2)"
   ]
  },
  {
   "cell_type": "markdown",
   "id": "e20e5c6b",
   "metadata": {},
   "source": [
    "\n",
    "\n",
    "# Literals"
   ]
  },
  {
   "cell_type": "markdown",
   "id": "720e2cbf",
   "metadata": {},
   "source": [
    "### Integers: octal"
   ]
  },
  {
   "cell_type": "code",
   "execution_count": 36,
   "id": "a431b290",
   "metadata": {},
   "outputs": [
    {
     "name": "stdout",
     "output_type": "stream",
     "text": [
      "83\n"
     ]
    }
   ],
   "source": [
    "print(0o123)"
   ]
  },
  {
   "cell_type": "markdown",
   "id": "47a009fc",
   "metadata": {},
   "source": [
    "### Integers: hexadecimal"
   ]
  },
  {
   "cell_type": "code",
   "execution_count": 37,
   "id": "d321835a",
   "metadata": {},
   "outputs": [
    {
     "name": "stdout",
     "output_type": "stream",
     "text": [
      "291\n"
     ]
    }
   ],
   "source": [
    "print(0x123)"
   ]
  },
  {
   "cell_type": "markdown",
   "id": "a4566c84",
   "metadata": {},
   "source": [
    "### Floats"
   ]
  },
  {
   "cell_type": "code",
   "execution_count": 72,
   "id": "f111101e",
   "metadata": {},
   "outputs": [
    {
     "data": {
      "text/plain": [
       "6.62607e-34"
      ]
     },
     "execution_count": 72,
     "metadata": {},
     "output_type": "execute_result"
    }
   ],
   "source": [
    "6.62607E-34"
   ]
  },
  {
   "cell_type": "code",
   "execution_count": 39,
   "id": "e4fd0471",
   "metadata": {},
   "outputs": [
    {
     "name": "stdout",
     "output_type": "stream",
     "text": [
      "1e-22\n"
     ]
    }
   ],
   "source": [
    "print(0.0000000000000000000001)"
   ]
  },
  {
   "cell_type": "code",
   "execution_count": 75,
   "id": "14c06b5b",
   "metadata": {},
   "outputs": [
    {
     "data": {
      "text/plain": [
       "200.0"
      ]
     },
     "execution_count": 75,
     "metadata": {},
     "output_type": "execute_result"
    }
   ],
   "source": [
    "2E2"
   ]
  },
  {
   "cell_type": "code",
   "execution_count": 76,
   "id": "888c0d56",
   "metadata": {},
   "outputs": [
    {
     "data": {
      "text/plain": [
       "200"
      ]
     },
     "execution_count": 76,
     "metadata": {},
     "output_type": "execute_result"
    }
   ],
   "source": [
    "int(2E2)"
   ]
  },
  {
   "cell_type": "markdown",
   "id": "8279b417",
   "metadata": {},
   "source": [
    "### Print \" \""
   ]
  },
  {
   "cell_type": "code",
   "execution_count": 41,
   "id": "4ed76958",
   "metadata": {},
   "outputs": [
    {
     "name": "stdout",
     "output_type": "stream",
     "text": [
      "I like \"Monty Python\"\n",
      "I like \"Monty Python\"\n"
     ]
    }
   ],
   "source": [
    "print(\"I like \\\"Monty Python\\\"\")\n",
    "print('I like \"Monty Python\"')"
   ]
  },
  {
   "cell_type": "markdown",
   "id": "4e236c71",
   "metadata": {},
   "source": [
    "### None"
   ]
  },
  {
   "cell_type": "code",
   "execution_count": 68,
   "id": "b3af761e",
   "metadata": {},
   "outputs": [
    {
     "name": "stdout",
     "output_type": "stream",
     "text": [
      "None\n"
     ]
    }
   ],
   "source": [
    "print(None)"
   ]
  },
  {
   "cell_type": "markdown",
   "id": "fe9ac4bf",
   "metadata": {},
   "source": [
    "### Checking data type"
   ]
  },
  {
   "cell_type": "code",
   "execution_count": 79,
   "id": "4826ddf1",
   "metadata": {},
   "outputs": [
    {
     "data": {
      "text/plain": [
       "float"
      ]
     },
     "execution_count": 79,
     "metadata": {},
     "output_type": "execute_result"
    }
   ],
   "source": [
    "type(2.5)"
   ]
  },
  {
   "cell_type": "code",
   "execution_count": 80,
   "id": "c6ab3095",
   "metadata": {},
   "outputs": [
    {
     "data": {
      "text/plain": [
       "bool"
      ]
     },
     "execution_count": 80,
     "metadata": {},
     "output_type": "execute_result"
    }
   ],
   "source": [
    "type(True)"
   ]
  },
  {
   "cell_type": "markdown",
   "id": "4c468614",
   "metadata": {},
   "source": [
    "### Task 4"
   ]
  },
  {
   "cell_type": "code",
   "execution_count": 42,
   "id": "a393fb60",
   "metadata": {},
   "outputs": [],
   "source": [
    "#expected output: I'm Monty Python."
   ]
  },
  {
   "cell_type": "code",
   "execution_count": 46,
   "id": "8554f6d1",
   "metadata": {},
   "outputs": [
    {
     "name": "stdout",
     "output_type": "stream",
     "text": [
      "I'm Monty Python.\n",
      "I'm Monty Python.\n"
     ]
    }
   ],
   "source": [
    "print(\"I\\'m Monty Python.\")\n",
    "\n",
    "print(\"I'm Monty Python.\")"
   ]
  },
  {
   "cell_type": "markdown",
   "id": "dc7ee3f7",
   "metadata": {},
   "source": [
    "### Data types: Boolean"
   ]
  },
  {
   "cell_type": "code",
   "execution_count": 47,
   "id": "a9b47314",
   "metadata": {},
   "outputs": [
    {
     "name": "stdout",
     "output_type": "stream",
     "text": [
      "True\n",
      "False\n"
     ]
    }
   ],
   "source": [
    "print(True > False)\n",
    "print(True < False)"
   ]
  },
  {
   "cell_type": "markdown",
   "id": "d86eb564",
   "metadata": {},
   "source": [
    "### Task 5"
   ]
  },
  {
   "cell_type": "code",
   "execution_count": 48,
   "id": "be01fc26",
   "metadata": {},
   "outputs": [],
   "source": [
    "#expected output: \n",
    "#\"I'm\"\n",
    "#\"\"learning\"\"\n",
    "#\"\"\"Python\"\"\"\n",
    "\n",
    "#todo: write one line code using print"
   ]
  },
  {
   "cell_type": "code",
   "execution_count": 49,
   "id": "4355677f",
   "metadata": {},
   "outputs": [
    {
     "name": "stdout",
     "output_type": "stream",
     "text": [
      "\"I'm\" \n",
      " \"\"learning\"\" \n",
      " \"\"\"Python\"\"\"\n"
     ]
    }
   ],
   "source": [
    "print(\"\\\"I\\'m\\\" \\n \\\"\\\"learning\\\"\\\" \\n \\\"\\\"\\\"Python\\\"\\\"\\\"\")"
   ]
  },
  {
   "cell_type": "markdown",
   "id": "b61fab10",
   "metadata": {},
   "source": [
    "# Operators - data manipulation"
   ]
  },
  {
   "cell_type": "markdown",
   "id": "58b59597",
   "metadata": {},
   "source": [
    "### Basic Arithmetic"
   ]
  },
  {
   "cell_type": "code",
   "execution_count": 88,
   "id": "f2d66a26",
   "metadata": {},
   "outputs": [
    {
     "name": "stdout",
     "output_type": "stream",
     "text": [
      "24\n",
      "24.0\n",
      "-110\n",
      "0.0\n",
      "\n",
      "100\n",
      "50.0\n",
      "50.0\n",
      "0.01\n",
      "\n",
      "8\n",
      "8.0\n",
      "8.0\n",
      "8.0\n",
      "1.3195079107728942\n",
      "\n",
      "1.0\n",
      "2\n",
      "\n",
      "4.0\n",
      "76\n"
     ]
    }
   ],
   "source": [
    "print(1+23)\n",
    "print(1+23.)\n",
    "print(-100-10)\n",
    "print(10.-10.)\n",
    "print()\n",
    "\n",
    "print(10*10)\n",
    "print(100*0.5)\n",
    "print(100/2)\n",
    "print(1/100)\n",
    "print()\n",
    "\n",
    "print(2 ** 3)\n",
    "print(2 ** 3.)\n",
    "print(2. ** 3)\n",
    "print(2. ** 3.)\n",
    "print(2 ** 0.4)\n",
    "print()\n",
    "\n",
    "print(3%2.)\n",
    "print(100%7)\n",
    "print()\n",
    "\n",
    "print(13//3.)\n",
    "print(1000//13)\n"
   ]
  },
  {
   "cell_type": "markdown",
   "id": "43d7b676",
   "metadata": {},
   "source": [
    "### Priorities"
   ]
  },
  {
   "cell_type": "code",
   "execution_count": 91,
   "id": "1f786761",
   "metadata": {},
   "outputs": [
    {
     "name": "stdout",
     "output_type": "stream",
     "text": [
      "17\n"
     ]
    }
   ],
   "source": [
    "#compute * then +\n",
    "print(2 + 3 * 5)"
   ]
  },
  {
   "cell_type": "code",
   "execution_count": 92,
   "id": "075f1586",
   "metadata": {},
   "outputs": [
    {
     "name": "stdout",
     "output_type": "stream",
     "text": [
      "1\n"
     ]
    }
   ],
   "source": [
    "#compute % from left to right\n",
    "print(9 % 6 % 2)"
   ]
  },
  {
   "cell_type": "code",
   "execution_count": 93,
   "id": "3e04bb3f",
   "metadata": {},
   "outputs": [
    {
     "name": "stdout",
     "output_type": "stream",
     "text": [
      "256\n"
     ]
    }
   ],
   "source": [
    "#compute ** from right to left (imagine 2^2^3)\n",
    "print(2 ** 2 ** 3)"
   ]
  },
  {
   "cell_type": "code",
   "execution_count": 95,
   "id": "e7d9dc96",
   "metadata": {},
   "outputs": [
    {
     "name": "stdout",
     "output_type": "stream",
     "text": [
      "1\n"
     ]
    }
   ],
   "source": [
    "#compute * then %\n",
    "print(2 * 3 % 5)"
   ]
  },
  {
   "cell_type": "code",
   "execution_count": 96,
   "id": "d75f24d6",
   "metadata": {},
   "outputs": [
    {
     "name": "stdout",
     "output_type": "stream",
     "text": [
      "10.0\n"
     ]
    }
   ],
   "source": [
    "print((5 * ((25 % 13) + 100) / (2 * 13)) // 2)"
   ]
  },
  {
   "cell_type": "markdown",
   "id": "6d47825e",
   "metadata": {},
   "source": [
    "# Variables"
   ]
  },
  {
   "cell_type": "code",
   "execution_count": 97,
   "id": "6b935285",
   "metadata": {},
   "outputs": [
    {
     "name": "stdout",
     "output_type": "stream",
     "text": [
      "1 1000.0 John Doe\n",
      "1\n"
     ]
    }
   ],
   "source": [
    "var = 1\n",
    "account_balance = 1000.0\n",
    "client_name = 'John Doe'\n",
    "print(var, account_balance, client_name)\n",
    "print(var)"
   ]
  },
  {
   "cell_type": "markdown",
   "id": "52ebbb09",
   "metadata": {},
   "source": [
    "### Case sensitive"
   ]
  },
  {
   "cell_type": "code",
   "execution_count": 98,
   "id": "66daefc2",
   "metadata": {},
   "outputs": [
    {
     "ename": "NameError",
     "evalue": "name 'Var' is not defined",
     "output_type": "error",
     "traceback": [
      "\u001b[0;31m---------------------------------------------------------------------------\u001b[0m",
      "\u001b[0;31mNameError\u001b[0m                                 Traceback (most recent call last)",
      "Input \u001b[0;32mIn [98]\u001b[0m, in \u001b[0;36m<cell line: 2>\u001b[0;34m()\u001b[0m\n\u001b[1;32m      1\u001b[0m var \u001b[38;5;241m=\u001b[39m \u001b[38;5;241m1\u001b[39m\n\u001b[0;32m----> 2\u001b[0m \u001b[38;5;28mprint\u001b[39m(Var)\n",
      "\u001b[0;31mNameError\u001b[0m: name 'Var' is not defined"
     ]
    }
   ],
   "source": [
    "var = 1\n",
    "print(Var)"
   ]
  },
  {
   "cell_type": "code",
   "execution_count": 99,
   "id": "9e0643fb",
   "metadata": {},
   "outputs": [
    {
     "name": "stdout",
     "output_type": "stream",
     "text": [
      "Python version: 3.8.5\n"
     ]
    }
   ],
   "source": [
    "var = \"3.8.5\"\n",
    "print(\"Python version: \" + var)"
   ]
  },
  {
   "cell_type": "markdown",
   "id": "b3ee2ff9",
   "metadata": {},
   "source": [
    "### Do not use these words as variable"
   ]
  },
  {
   "cell_type": "code",
   "execution_count": 100,
   "id": "3fc2a2b5",
   "metadata": {},
   "outputs": [
    {
     "data": {
      "text/plain": [
       "['False',\n",
       " 'None',\n",
       " 'True',\n",
       " 'and',\n",
       " 'as',\n",
       " 'assert',\n",
       " 'break',\n",
       " 'class',\n",
       " 'continue',\n",
       " 'def',\n",
       " 'del',\n",
       " 'elif',\n",
       " 'else',\n",
       " 'except',\n",
       " 'finally',\n",
       " 'for',\n",
       " 'from',\n",
       " 'global',\n",
       " 'if',\n",
       " 'import',\n",
       " 'in',\n",
       " 'is',\n",
       " 'lambda',\n",
       " 'nonlocal',\n",
       " 'not',\n",
       " 'or',\n",
       " 'pass',\n",
       " 'raise',\n",
       " 'return',\n",
       " 'try',\n",
       " 'while',\n",
       " 'with',\n",
       " 'yield']"
      ]
     },
     "execution_count": 100,
     "metadata": {},
     "output_type": "execute_result"
    }
   ],
   "source": [
    "['False', 'None', 'True', 'and', 'as', 'assert', 'break', 'class', 'continue', 'def', 'del', 'elif', 'else', 'except', 'finally', 'for', 'from', 'global', 'if', 'import', 'in', 'is', 'lambda', 'nonlocal', 'not', 'or', 'pass', 'raise', 'return', 'try', 'while', 'with', 'yield']"
   ]
  },
  {
   "cell_type": "markdown",
   "id": "8cdbfea8",
   "metadata": {},
   "source": [
    "### Assigning new variables"
   ]
  },
  {
   "cell_type": "code",
   "execution_count": 101,
   "id": "98e529c7",
   "metadata": {},
   "outputs": [
    {
     "name": "stdout",
     "output_type": "stream",
     "text": [
      "1\n",
      "2\n"
     ]
    }
   ],
   "source": [
    "var = 1\n",
    "print(var)\n",
    "var = var + 1\n",
    "print(var)\n"
   ]
  },
  {
   "cell_type": "code",
   "execution_count": 102,
   "id": "a30c2154",
   "metadata": {},
   "outputs": [
    {
     "name": "stdout",
     "output_type": "stream",
     "text": [
      "500\n"
     ]
    }
   ],
   "source": [
    "var = 100\n",
    "var = 200 + 300\n",
    "print(var)"
   ]
  },
  {
   "cell_type": "markdown",
   "id": "8a038fa6",
   "metadata": {},
   "source": [
    "### Square root"
   ]
  },
  {
   "cell_type": "code",
   "execution_count": 103,
   "id": "0a50d5b0",
   "metadata": {},
   "outputs": [
    {
     "name": "stdout",
     "output_type": "stream",
     "text": [
      "c = 5.0\n"
     ]
    }
   ],
   "source": [
    "a = 3.0\n",
    "b = 4.0\n",
    "c = (a ** 2 + b ** 2) ** 0.5\n",
    "print(\"c =\", c)"
   ]
  },
  {
   "cell_type": "markdown",
   "id": "cbcc4ff8",
   "metadata": {},
   "source": [
    "### Task 6"
   ]
  },
  {
   "cell_type": "code",
   "execution_count": 104,
   "id": "6c4177b8",
   "metadata": {},
   "outputs": [
    {
     "name": "stdout",
     "output_type": "stream",
     "text": [
      "3 5 6\n",
      "14\n",
      "Total number of apples: 14\n"
     ]
    }
   ],
   "source": [
    "john = 3\n",
    "mary = 5\n",
    "adam = 6\n",
    "\n",
    "print(john,mary,adam)\n",
    "total_apples = john + mary + adam\n",
    "print(total_apples)\n",
    "print(\"Total number of apples:\",total_apples)"
   ]
  },
  {
   "cell_type": "markdown",
   "id": "244ad406",
   "metadata": {},
   "source": [
    "### Shorcut Operators"
   ]
  },
  {
   "cell_type": "code",
   "execution_count": 115,
   "id": "2642be2c",
   "metadata": {},
   "outputs": [
    {
     "name": "stdout",
     "output_type": "stream",
     "text": [
      "444\n",
      "102\n"
     ]
    }
   ],
   "source": [
    "x = 111\n",
    "sheep = 100\n",
    "x = x * 2\n",
    "sheep = sheep + 1\n",
    "\n",
    "x *= 2\n",
    "sheep += 1\n",
    "\n",
    "print(x)\n",
    "print(sheep)"
   ]
  },
  {
   "cell_type": "markdown",
   "id": "513fe2c3",
   "metadata": {},
   "source": [
    "### Task 7"
   ]
  },
  {
   "cell_type": "code",
   "execution_count": 2,
   "id": "0a1c30bf",
   "metadata": {},
   "outputs": [],
   "source": [
    "#expected output: \n",
    "#7.38 miles is 11.88 kilometers\n",
    "#12.25 kilometers is 7.61 miles\n",
    "\n",
    "#todo: write the code to convert miles to km and vice versa"
   ]
  },
  {
   "cell_type": "code",
   "execution_count": 3,
   "id": "3656a617",
   "metadata": {},
   "outputs": [
    {
     "name": "stdout",
     "output_type": "stream",
     "text": [
      "7.38 miles is 11.88 kilometers\n",
      "12.25 kilometers is 7.61 miles\n"
     ]
    }
   ],
   "source": [
    "kilometers = 12.25\n",
    "miles = 7.38\n",
    "\n",
    "#put your code here\n",
    "miles_to_kilometers = miles*1.61 \n",
    "kilometers_to_miles = kilometers*1/1.61\n",
    "\n",
    "print(miles, \"miles is\", round(miles_to_kilometers, 2), \"kilometers\")\n",
    "print(kilometers, \"kilometers is\", round(kilometers_to_miles, 2), \"miles\")\n"
   ]
  },
  {
   "cell_type": "markdown",
   "id": "b0868c3e",
   "metadata": {},
   "source": [
    "### Task 8"
   ]
  },
  {
   "cell_type": "code",
   "execution_count": 4,
   "id": "0a28a772",
   "metadata": {},
   "outputs": [
    {
     "data": {
      "text/plain": [
       "'\\nsample:\\nx = 0\\nx = 1\\nx = -1\\noutput:\\ny = -1.0\\ny = 3.0\\ny = -9.0\\n'"
      ]
     },
     "execution_count": 4,
     "metadata": {},
     "output_type": "execute_result"
    }
   ],
   "source": [
    "#expected output:\n",
    "'''\n",
    "sample:\n",
    "x = 0\n",
    "x = 1\n",
    "x = -1\n",
    "output:\n",
    "y = -1.0\n",
    "y = 3.0\n",
    "y = -9.0\n",
    "'''\n",
    "#todo: write a function 3x^3-2x^2+3x-1"
   ]
  },
  {
   "cell_type": "code",
   "execution_count": 17,
   "id": "c49543c0",
   "metadata": {},
   "outputs": [
    {
     "name": "stdout",
     "output_type": "stream",
     "text": [
      "y = -1.0\n",
      "y = 3.0\n",
      "y = -9.0\n"
     ]
    }
   ],
   "source": [
    "x = 0\n",
    "x = float(x)\n",
    "y = 3*x**3-2*x**2+3*x-1\n",
    "\n",
    "x1 = 1\n",
    "x1 = float(x1)\n",
    "y1 = 3*x1**3-2*x1**2+3*x1-1\n",
    "\n",
    "x2 = -1\n",
    "x2 = float(x2)\n",
    "y2 = 3*x2**3-2*x2**2+3*x2-1\n",
    "\n",
    "print(\"y =\", y)\n",
    "print(\"y =\", y1)\n",
    "print(\"y =\", y2)"
   ]
  },
  {
   "cell_type": "markdown",
   "id": "2d10f46b",
   "metadata": {},
   "source": [
    "# Comments"
   ]
  },
  {
   "cell_type": "code",
   "execution_count": 4,
   "id": "1b14cc0c",
   "metadata": {},
   "outputs": [
    {
     "name": "stdout",
     "output_type": "stream",
     "text": [
      "only this line will be showed\n"
     ]
    }
   ],
   "source": [
    "# comment 1\n",
    "# comment 2\n",
    "'''\n",
    "comment 3\n",
    "comment 4\n",
    "comment 5\n",
    "comment 6\n",
    "'''\n",
    "print('only this line will be showed')"
   ]
  },
  {
   "cell_type": "markdown",
   "id": "4a86121c",
   "metadata": {},
   "source": [
    "# Input() function"
   ]
  },
  {
   "cell_type": "markdown",
   "id": "0af69879",
   "metadata": {},
   "source": [
    "### Input as a string"
   ]
  },
  {
   "cell_type": "code",
   "execution_count": 5,
   "id": "979fde35",
   "metadata": {},
   "outputs": [
    {
     "name": "stdout",
     "output_type": "stream",
     "text": [
      "Tell me anything...\n",
      "\"I love Bakso\"\n",
      "Hmm... \"I love Bakso\" ... Really?\n"
     ]
    }
   ],
   "source": [
    "print(\"Tell me anything...\")\n",
    "anything = input()\n",
    "print(\"Hmm...\", anything, \"... Really?\")"
   ]
  },
  {
   "cell_type": "code",
   "execution_count": 7,
   "id": "f5376d24",
   "metadata": {},
   "outputs": [
    {
     "name": "stdout",
     "output_type": "stream",
     "text": [
      "Tell me anything...I love Bakso\n",
      "Hmm... I love Bakso ...Really?\n"
     ]
    }
   ],
   "source": [
    "anything = input(\"Tell me anything...\")\n",
    "print(\"Hmm...\", anything, \"...Really?\")"
   ]
  },
  {
   "cell_type": "markdown",
   "id": "81298859",
   "metadata": {},
   "source": [
    "### Input as a number"
   ]
  },
  {
   "cell_type": "code",
   "execution_count": 16,
   "id": "db17950e",
   "metadata": {},
   "outputs": [
    {
     "name": "stdout",
     "output_type": "stream",
     "text": [
      "Enter a number: 2\n",
      "2.0 to the power of 2 is 4.0\n"
     ]
    }
   ],
   "source": [
    "anything = float(input(\"Enter a number: \"))\n",
    "something = anything ** 2.0\n",
    "print(anything, \"to the power of 2 is\", something)"
   ]
  },
  {
   "cell_type": "code",
   "execution_count": 18,
   "id": "4bc3ca1a",
   "metadata": {},
   "outputs": [
    {
     "name": "stdout",
     "output_type": "stream",
     "text": [
      "Input first leg length: 3\n",
      "Input second leg length: 4\n",
      "Hypotenuse length is 5.0\n"
     ]
    }
   ],
   "source": [
    "leg_a = float(input(\"Input first leg length: \"))\n",
    "leg_b = float(input(\"Input second leg length: \"))\n",
    "hypo = (leg_a**2 + leg_b**2) ** .5\n",
    "print(\"Hypotenuse length is\", hypo)"
   ]
  },
  {
   "cell_type": "markdown",
   "id": "9164a22c",
   "metadata": {},
   "source": [
    "### String operators"
   ]
  },
  {
   "cell_type": "code",
   "execution_count": 20,
   "id": "dba1ae20",
   "metadata": {},
   "outputs": [
    {
     "name": "stdout",
     "output_type": "stream",
     "text": [
      "May I have your first name, please? Senja\n",
      "May I have your last name, please? Reggae\n",
      "Thank you.\n",
      "\n",
      "Your name is Senja Reggae.\n"
     ]
    }
   ],
   "source": [
    "fnam = input(\"May I have your first name, please? \")\n",
    "lnam = input(\"May I have your last name, please? \")\n",
    "print(\"Thank you.\")\n",
    "print(\"\\nYour name is \" + fnam + \" \" + lnam + \".\")"
   ]
  },
  {
   "cell_type": "markdown",
   "id": "35e6ba04",
   "metadata": {},
   "source": [
    "### Replication"
   ]
  },
  {
   "cell_type": "code",
   "execution_count": 25,
   "id": "8be53c94",
   "metadata": {},
   "outputs": [
    {
     "name": "stdout",
     "output_type": "stream",
     "text": [
      "+----------+\n",
      "|          |\n",
      "|          |\n",
      "|          |\n",
      "|          |\n",
      "|          |\n",
      "+----------+\n"
     ]
    }
   ],
   "source": [
    "print(\"+\" + 10 * \"-\" + \"+\")\n",
    "print((\"|\" + \" \" * 10 + \"|\\n\")*5, end=\"\")\n",
    "print(\"+\" + 10 * \"-\" + \"+\")"
   ]
  },
  {
   "cell_type": "markdown",
   "id": "622a9442",
   "metadata": {},
   "source": [
    "### Conversion"
   ]
  },
  {
   "cell_type": "code",
   "execution_count": 26,
   "id": "e60254d7",
   "metadata": {},
   "outputs": [
    {
     "name": "stdout",
     "output_type": "stream",
     "text": [
      "Input first leg length: 20\n",
      "Input second leg length: 1\n",
      "Hypotenuse length is 20.024984394500787\n"
     ]
    }
   ],
   "source": [
    "leg_a = float(input(\"Input first leg length: \"))\n",
    "leg_b = float(input(\"Input second leg length: \"))\n",
    "print(\"Hypotenuse length is \" + str((leg_a**2 + leg_b**2) ** .5))"
   ]
  },
  {
   "cell_type": "markdown",
   "id": "5c39c2ab",
   "metadata": {},
   "source": [
    "### Task 9"
   ]
  },
  {
   "cell_type": "code",
   "execution_count": 6,
   "id": "7a41def4",
   "metadata": {},
   "outputs": [],
   "source": [
    "#todo: write a code to evaluate basic arithmetic with an input number and print the result"
   ]
  },
  {
   "cell_type": "code",
   "execution_count": 28,
   "id": "f327c227",
   "metadata": {},
   "outputs": [
    {
     "name": "stdout",
     "output_type": "stream",
     "text": [
      "a = 100\n",
      "b = 20\n",
      "Results 360.0\n",
      "That's all, folks!\n"
     ]
    }
   ],
   "source": [
    "a = float(input(\"a = \"))\n",
    "b = float(input(\"b = \"))\n",
    "c1 = a+b\n",
    "c2 = a-b\n",
    "c3 = a*b\n",
    "c4 = a/b\n",
    "c = c1-2*c2+c3/c4\n",
    "print(\"Results \"+ str(c) + \"\\nThat's all, folks!\")"
   ]
  },
  {
   "cell_type": "markdown",
   "id": "891ab911",
   "metadata": {},
   "source": [
    "### Task 10"
   ]
  },
  {
   "cell_type": "code",
   "execution_count": 7,
   "id": "71c891bd",
   "metadata": {},
   "outputs": [
    {
     "data": {
      "text/plain": [
       "'\\nsample\\n10\\n100\\n-5\\noutput\\ny = 0.6000000000000001\\ny = 0.009999000199950014\\ny = -0.19258202567760344\\n'"
      ]
     },
     "execution_count": 7,
     "metadata": {},
     "output_type": "execute_result"
    }
   ],
   "source": [
    "#expected output:\n",
    "'''\n",
    "sample\n",
    "10\n",
    "100\n",
    "-5\n",
    "output\n",
    "y = 0.6000000000000001\n",
    "y = 0.009999000199950014\n",
    "y = -0.19258202567760344\n",
    "'''\n",
    "#todo:evaluate the function 1/(x+1/(x+1/(x+1/x))"
   ]
  },
  {
   "cell_type": "code",
   "execution_count": 18,
   "id": "f92773a3",
   "metadata": {},
   "outputs": [
    {
     "name": "stdout",
     "output_type": "stream",
     "text": [
      "Enter value for x: 10\n",
      "Enter value for x: 100\n",
      "Enter value for x: -5\n",
      "y = 0.09933774834437087\n",
      "y = 0.009999333377774816\n",
      "y = -0.1948051948051948\n"
     ]
    }
   ],
   "source": [
    "x = float(input(\"Enter value for x: \"))\n",
    "y = 1/(x+1/(x+1/(1/x+1/x)))\n",
    "\n",
    "x1 = float(input(\"Enter value for x: \"))\n",
    "y1 = 1/(x1+1/(x1+1/(1/x1+1/x1)))\n",
    "\n",
    "x2 = float(input(\"Enter value for x: \"))\n",
    "y2 = 1/(x2+1/(x2+1/(1/x2+1/x2)))\n",
    "\n",
    "print(\"y =\", y)\n",
    "print(\"y =\", y1)\n",
    "print(\"y =\", y2)"
   ]
  },
  {
   "cell_type": "markdown",
   "id": "8ef90c36",
   "metadata": {},
   "source": [
    "### Task 11"
   ]
  },
  {
   "cell_type": "code",
   "execution_count": 19,
   "id": "e7c12b60",
   "metadata": {},
   "outputs": [
    {
     "data": {
      "text/plain": [
       "'\\nsample\\n12\\n17\\n59\\noutput\\n13:16\\n\\nsample\\n23\\n58\\n642\\noutput\\n10:40\\n\\nsample\\n0\\n1\\n2939\\noutput\\n1:0\\n'"
      ]
     },
     "execution_count": 19,
     "metadata": {},
     "output_type": "execute_result"
    }
   ],
   "source": [
    "#expected output:\n",
    "'''\n",
    "sample\n",
    "12\n",
    "17\n",
    "59\n",
    "output\n",
    "13:16\n",
    "\n",
    "sample\n",
    "23\n",
    "58\n",
    "642\n",
    "output\n",
    "10:40\n",
    "\n",
    "sample\n",
    "0\n",
    "1\n",
    "2939\n",
    "output\n",
    "1:0\n",
    "'''\n",
    "\n",
    "#todo: write a program to determine the end of the hours from input hours, minutes and durations \n",
    "#starting code: \n",
    "#hour = int(input(\"Starting time (hours): \"))\n",
    "#mins = int(input(\"Starting time (minutes): \"))\n",
    "#dura = int(input(\"Event duration (minutes): \"))"
   ]
  },
  {
   "cell_type": "code",
   "execution_count": 40,
   "id": "1abec65f",
   "metadata": {},
   "outputs": [
    {
     "name": "stdout",
     "output_type": "stream",
     "text": [
      "Starting time (hours): 12\n",
      "Starting time (minutes): 17\n",
      "Event duration (minutes): 59\n",
      "13:16\n",
      "Starting time (hours): 23\n",
      "Starting time (minutes): 58\n",
      "Event duration (minutes): 642\n",
      "10:40\n",
      "Starting time (hours): 0\n",
      "Starting time (minutes): 1\n",
      "Event duration (minutes): 2939\n",
      "1:0\n"
     ]
    }
   ],
   "source": [
    "hour = int(input(\"Starting time (hours): \"))\n",
    "mins = int(input(\"Starting time (minutes): \"))\n",
    "dura = int(input(\"Event duration (minutes): \"))\n",
    "\n",
    "min_end = mins+dura\n",
    "hour_end = hour+min_end//60\n",
    "min_end %= 60\n",
    "hour_end %= 24\n",
    " \n",
    "event_ends =str(hour_end) + \":\" + str(min_end) \n",
    "print(event_ends)\n",
    "\n",
    "hour1 = int(input(\"Starting time (hours): \"))\n",
    "mins1 = int(input(\"Starting time (minutes): \"))\n",
    "dura1 = int(input(\"Event duration (minutes): \"))\n",
    "\n",
    "min_end1 = mins1+dura1\n",
    "hour_end1 = hour1+min_end1//60\n",
    "min_end1 %= 60\n",
    "hour_end1 %= 24\n",
    " \n",
    "event_ends1 =str(hour_end1) + \":\" + str(min_end1) \n",
    "print(event_ends1)\n",
    "\n",
    "hour2 = int(input(\"Starting time (hours): \"))\n",
    "mins2 = int(input(\"Starting time (minutes): \"))\n",
    "dura2 = int(input(\"Event duration (minutes): \"))\n",
    "\n",
    "min_end2 = mins2+dura2\n",
    "hour_end2 = hour2+min_end2//60\n",
    "min_end2 %= 60\n",
    "hour_end2 %= 24\n",
    " \n",
    "event_ends2 =str(hour_end2) + \":\" + str(min_end2) \n",
    "print(event_ends2)"
   ]
  },
  {
   "cell_type": "code",
   "execution_count": null,
   "id": "3875b101",
   "metadata": {},
   "outputs": [],
   "source": []
  }
 ],
 "metadata": {
  "kernelspec": {
   "display_name": "Python 3",
   "language": "python",
   "name": "python3"
  },
  "language_info": {
   "codemirror_mode": {
    "name": "ipython",
    "version": 3
   },
   "file_extension": ".py",
   "mimetype": "text/x-python",
   "name": "python",
   "nbconvert_exporter": "python",
   "pygments_lexer": "ipython3",
   "version": "3.9.5"
  }
 },
 "nbformat": 4,
 "nbformat_minor": 5
}
